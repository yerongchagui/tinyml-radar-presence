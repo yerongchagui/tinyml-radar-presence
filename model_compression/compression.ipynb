{
 "cells": [
  {
   "cell_type": "markdown",
   "id": "23c1ea6c",
   "metadata": {},
   "source": [
    "# Model compression\n",
    "\n",
    "Project: Embedded Artificial Intelligence for Radar-Based Presence Detection\n",
    "\n",
    "Techniques tested:\n",
    "- Post training quantisation (float32 inputs, int8 activations)\n",
    "- Pruning\n",
    "- Clustering\n",
    "- Quantisation-aware training\n",
    "\n",
    "Note: Comparing model sizes might not be accurate (confirmed for .tflite file since conversion to .cc results in increased size)."
   ]
  },
  {
   "cell_type": "code",
   "execution_count": 1,
   "id": "e495ef81",
   "metadata": {},
   "outputs": [
    {
     "name": "stderr",
     "output_type": "stream",
     "text": [
      "2023-07-24 17:34:02.398613: I tensorflow/core/util/port.cc:110] oneDNN custom operations are on. You may see slightly different numerical results due to floating-point round-off errors from different computation orders. To turn them off, set the environment variable `TF_ENABLE_ONEDNN_OPTS=0`.\n",
      "2023-07-24 17:34:02.401229: I tensorflow/tsl/cuda/cudart_stub.cc:28] Could not find cuda drivers on your machine, GPU will not be used.\n",
      "2023-07-24 17:34:02.453348: I tensorflow/tsl/cuda/cudart_stub.cc:28] Could not find cuda drivers on your machine, GPU will not be used.\n",
      "2023-07-24 17:34:02.454199: I tensorflow/core/platform/cpu_feature_guard.cc:182] This TensorFlow binary is optimized to use available CPU instructions in performance-critical operations.\n",
      "To enable the following instructions: AVX2 AVX512F AVX512_VNNI FMA, in other operations, rebuild TensorFlow with the appropriate compiler flags.\n",
      "2023-07-24 17:34:03.550398: W tensorflow/compiler/tf2tensorrt/utils/py_utils.cc:38] TF-TRT Warning: Could not find TensorRT\n"
     ]
    }
   ],
   "source": [
    "from typing import Dict, Any\n",
    "import argparse\n",
    "import yaml\n",
    "import numpy as np\n",
    "import tensorflow as tf\n",
    "from toolbox.helper import load_yaml, tf_model_evaluate, get_gzipped_model_size"
   ]
  },
  {
   "cell_type": "code",
   "execution_count": 2,
   "id": "45b73969",
   "metadata": {},
   "outputs": [],
   "source": [
    "from typing import Dict, Any\n",
    "import argparse\n",
    "import logging\n",
    "import sklearn\n",
    "import matplotlib.pyplot as plt\n",
    "import sklearn.metrics\n",
    "import json\n",
    "from sklearn.metrics import confusion_matrix, classification_report\n",
    "# from callbacks import CustomCallback, MLH_Callback, ConfusedCallback\n",
    "import seaborn as sns\n",
    "import pandas as pd\n",
    "import datetime\n",
    "from IPython.display import clear_output\n",
    "import tensorflow as tf\n",
    "import yaml \n",
    "import os\n",
    "import numpy as np\n",
    "import pathlib\n",
    "import tempfile\n",
    "import zipfile\n",
    "\n",
    "class Sequence(tf.keras.utils.Sequence):\n",
    "    def __init__(self, parent_path, preprocess_func, batch_size=64, classification=False, l_count=4, seq_len=8, seq_step=1, test=False, reshape=False):\n",
    "        self.preprocess_func = preprocess_func\n",
    "        self.seq_len = seq_len\n",
    "        self.seq_step = seq_step\n",
    "        self.batch_size = batch_size\n",
    "        self.reshape = reshape\n",
    "        self.data, self.labels = self.load_raw_data(parent_path, classification=classification, test=test, l_count=l_count, sequence=seq_len)\n",
    "        self.seq_lens = [s.shape[0] - int(seq_len * seq_step) for s in self.data]\n",
    "        self.shuffler = np.random.permutation(np.array(self.seq_lens).sum())\n",
    "    \n",
    "    def __len__(self):\n",
    "        return np.array(self.seq_lens).sum() // self.batch_size\n",
    "    \n",
    "    def get_dist(self):\n",
    "        dist = {\n",
    "            \"0\" : 0,\n",
    "            \"1\" : 0,\n",
    "            \"2\" : 0,\n",
    "            \"3\" : 0,\n",
    "            \"4\" : 0\n",
    "        }\n",
    "        \n",
    "        for batch in self.labels:\n",
    "            for l in batch:\n",
    "                dist[str(l)] += 1\n",
    "        \n",
    "        return dist\n",
    "\n",
    "    @classmethod\n",
    "    def __generate_identifier(cls, parent_path, batch_size, classification, l_count, seq_len, seq_step, test, reshape):\n",
    "        string = f\"{parent_path}-{batch_size}-{classification}-{l_count}-{seq_len}-{seq_step}-{reshape}\"\n",
    "        identifier = hashlib.md5(string.encode()).hexdigest()\n",
    "\n",
    "        timestamp = datetime.utcnow().strftime(\"%Y-%m-%d\")\n",
    "        config = \"test\" if test else \"train\"\n",
    "\n",
    "        identifier = f\"{identifier}_{test}_{timestamp}\"\n",
    "        return identifier\n",
    "\n",
    "    def indices_to_recidx(self, indices):\n",
    "        rec_indices = []\n",
    "        k_list = []\n",
    "        for idx in indices:\n",
    "            k = 0\n",
    "            for rec_len in self.seq_lens:\n",
    "                if idx - rec_len >= 0:\n",
    "                    idx = idx - rec_len\n",
    "                    k += 1\n",
    "                else:\n",
    "                    rec_indices.append(idx)\n",
    "                    k_list.append(k)\n",
    "                    break\n",
    "        return k_list, rec_indices\n",
    "\n",
    "    def __getitem__(self, idx):\n",
    "        data = []\n",
    "        labels = []\n",
    "        indices = self.shuffler[idx * self.batch_size:(idx + 1) * self.batch_size]\n",
    "        if isinstance(self.labels, list):\n",
    "            k_list, rec_indices = self.indices_to_recidx(indices)\n",
    "        else:\n",
    "            indices = np.random.randint(self.labels.shape[0], size=self.batch_size)\n",
    "            return self.data[indices, ...], self.labels[indices]\n",
    "\n",
    "        for i in range(self.batch_size):\n",
    "            seq_indices = rec_indices[i] + np.arange(self.seq_len) * self.seq_step\n",
    "            data.append(self.data[k_list[i]][seq_indices])\n",
    "            if self.seq_len > 1:\n",
    "                same_labels = np.all(self.labels[k_list[i]][seq_indices] == self.labels[k_list[i]][rec_indices[i]])\n",
    "            else:\n",
    "                same_labels = True\n",
    "            if not same_labels:\n",
    "                majority_label = np.sum(self.labels[k_list[i]][seq_indices], axis=0) // self.seq_len\n",
    "                labels.append(majority_label)\n",
    "            else:\n",
    "                labels.append(self.labels[k_list[i]][rec_indices[i]])\n",
    "\n",
    "        if self.reshape:\n",
    "            new_shape = (16, 10, self.seq_len*8)\n",
    "            for i, sample in enumerate(data):\n",
    "                transposed_array = np.transpose(sample, (1, 2, 3, 0))\n",
    "                data[i] = np.reshape(transposed_array, new_shape)\n",
    "        \n",
    "        if np.random.rand() > 0.5:\n",
    "            return np.flip(np.stack(data, axis=0), axis=-2), np.stack(labels, axis=0)\n",
    "        else:\n",
    "            return np.stack(data, axis=0), np.stack(labels, axis=0)\n",
    "\n",
    "    def on_epoch_end(self):\n",
    "        np.random.shuffle(self.shuffler)\n",
    "        \n",
    "    def load_raw_data(self, parent_path, classification : bool = False, test : bool = False, l_count : int = 4, sequence : int = 1) -> tuple:\n",
    "        if isinstance(parent_path, list):\n",
    "            folder_list = []\n",
    "            for p in parent_path:\n",
    "                folders = list(map(lambda item: p + item, list(os.listdir(p))))\n",
    "                folder_list = folder_list + folders\n",
    "        else:\n",
    "            folder_list = list(map(lambda item: parent_path + item, list(os.listdir(parent_path))))\n",
    "\n",
    "        if test:\n",
    "            folder_list = [f for f in folder_list if ('test' in f)]\n",
    "        else:\n",
    "            folder_list = [f for f in folder_list if not ('test' in f)]\n",
    "\n",
    "        print(folder_list)\n",
    "\n",
    "        data_list = []\n",
    "        label_list = []\n",
    "\n",
    "        count = 0\n",
    "        bar_len = 20\n",
    "\n",
    "        for folder in folder_list:\n",
    "            rec_list = os.listdir(folder)  # List of filenames of files inside directory\n",
    "    #         print(folder)\n",
    "            label_rec_list = [r for r in rec_list if r.__contains__(\"label\")]\n",
    "            rec_list = [r for r in rec_list if\n",
    "                        r.__contains__(\"radar\") and not r.__contains__(\"label\") and not r.__contains__(\"process\")]\n",
    "            num_files = len(rec_list)\n",
    "            for i, rec in enumerate(rec_list):\n",
    "                # print(\"rec: \", folder + '/' + rec)\n",
    "\n",
    "                clear_output(wait=True)\n",
    "                count += 1\n",
    "                print(\"Directory: \" + parent_path)\n",
    "                print(\"Current file: \" + rec)\n",
    "                print(\"Progress: \" + str(count) + \"/\" + str(num_files))\n",
    "\n",
    "                data = np.load(folder + '/' + rec)\n",
    "                # print(\"Data shape: \" + data.shape)\n",
    "                # print(f\"raw data min: {np.amin(data)}, max {np.amax(data)} mean {np.mean(data)}\")\n",
    "                data_processed = self.preprocess_func(data / 4095.0, normalization=False)\n",
    "                if \"all_recs\" in folder + rec:\n",
    "                    #print(\"got labels :)\")\n",
    "                    label_rec_path = [l for l in label_rec_list if l.__contains__(rec[:-9])]\n",
    "                    # print(rec, label_rec_path)\n",
    "                    try:\n",
    "                        labels = np.load(folder + \"/\" + label_rec_path[0])\n",
    "                        labels = np.where(labels > 4, 4, labels)\n",
    "\n",
    "                    except Exception as e:\n",
    "                        print(e)\n",
    "                        print(data.shape)\n",
    "                        labels = np.load(folder + \"/\" + label_rec_path[0], allow_pickle=True)\n",
    "\n",
    "                else:\n",
    "                    count = int(rec[0])\n",
    "                    labels = np.ones(data_processed.shape[0]) * count\n",
    "                    labels = np.where(labels > 4, 4, labels)\n",
    "\n",
    "                if classification:\n",
    "                    labels[labels > (l_count - 1)] = l_count - 1\n",
    "                    b = np.zeros((labels.size, l_count))\n",
    "                    b[np.arange(labels.size), labels.astype(np.int)] = 1\n",
    "                    labels = b\n",
    "                # print(labels.shape[0], data_processed.shape[0])\n",
    "                # print(f\"label available {np.unique(labels)}\")\n",
    "                assert labels.shape[0] == data_processed.shape[0]\n",
    "                ## Changes can be made here -Z\n",
    "                label_list.append(labels)\n",
    "                data_list.append(data_processed)\n",
    "                assert len(label_list) == len(data_list)\n",
    "\n",
    "        if sequence > 1:\n",
    "            return data_list, label_list\n",
    "\n",
    "        return np.concatenate(data_list, axis=0), np.concatenate(label_list, axis=0)\n"
   ]
  },
  {
   "cell_type": "code",
   "execution_count": 3,
   "id": "b89b7ce5",
   "metadata": {},
   "outputs": [],
   "source": [
    "import numpy as np\n",
    "\n",
    "def preprocess(data_in, chirp_count=16, num_samples=64, normalization=False):\n",
    "    # normalization = True\n",
    "    if normalization:\n",
    "        data_in = (data_in - data_in.min(axis=(1, 2, 3), keepdims=True)) / (data_in.max(axis=(1, 2, 3), keepdims=True))\n",
    "    data_out = []\n",
    "    data_out_slow = []\n",
    "    data_list = []\n",
    "    for i_frame, data in enumerate(data_in):\n",
    "        if i_frame < int(chirp_count):\n",
    "            data_list.append(np.copy(data))  # divide by data.max()\n",
    "        else:\n",
    "            del data_list[0]\n",
    "            data_list.append(np.copy(data.astype(np.float32)))\n",
    "            # creating slow time data frame\n",
    "            data_slow = np.stack(data_list, axis=0)\n",
    "            data_slow = np.transpose(data_slow.mean(axis=2), [1, 0, 2])\n",
    "\n",
    "            # remove means for MTI\n",
    "            data = data - data.mean(axis=1, keepdims=True)\n",
    "            data_slow = data_slow - data_slow.mean(axis=1, keepdims=True)\n",
    "\n",
    "            # Do Range-Doppler processing\n",
    "            # windowing\n",
    "            data = data * (np.hamming(num_samples) * (np.hamming(chirp_count)[np.newaxis]).T[np.newaxis])\n",
    "            data_slow = data_slow * (np.hamming(num_samples) * (np.hamming(chirp_count)[np.newaxis]).T[np.newaxis])\n",
    "\n",
    "            # FFTs\n",
    "            data = np.fft.fft2(data, axes=[2, 1])[..., :int(num_samples // 2)]\n",
    "            data_slow = np.fft.fft2(data_slow, axes=[2, 1])[..., :int(num_samples // 2)]\n",
    "            # FFT shifts\n",
    "            data = np.fft.fftshift(data, axes=1)\n",
    "            data_slow = np.fft.fftshift(data_slow, axes=1)\n",
    "            data_out.append(data)\n",
    "            data_out_slow.append(data_slow)\n",
    "\n",
    "    # data_out[0].shape: (3, 16, 32)\n",
    "\n",
    "    data = np.stack([np.real(data_out), np.imag(data_out), np.real(data_out_slow), np.imag(data_out_slow)], axis=-1)\n",
    "    # data.shape:  (1185, 3, 16, 32, 4)\n",
    "    macro = data[..., 0:2]\n",
    "    micro = data[..., 2:4]\n",
    "    macro = np.moveaxis(macro, 1, -2)\n",
    "    # macro.shape: (1185, 16, 32, 3, 2)\n",
    "    macro = macro.reshape((macro.shape[0], macro.shape[1], macro.shape[2], -1))\n",
    "    micro = np.moveaxis(micro, 1, -2)\n",
    "    # micro.shape: (1185, 16, 32, 3, 2)\n",
    "    micro = micro.reshape((micro.shape[0], micro.shape[1], micro.shape[2], -1))\n",
    "    # macro (1185, 16, 32, 6)\n",
    "    # micro (1185, 16, 32, 6)\n",
    "    data = np.concatenate([macro, micro], axis=-1)  # [16, 32, 12]\n",
    "\n",
    "    # antenna 1: idx: [..., 0,1,6,7]\n",
    "    # antenna 2: idx: [..., 2, 3, 8, 9]\n",
    "    # antenna 3: idx: [..., 4, 5, 10, 11]\n",
    "\n",
    "    \"\"\"\n",
    "    data = np.stack([np.abs(data_out), np.abs(data_out_slow)], axis=-1)\n",
    "    data = data.reshape((-1, data.shape[-3], data.shape[-2], data.shape[-1]))\n",
    "    data = data[:,:,:16,:]\n",
    "    data = data/np.amax(data, axis=(1,2), keepdims=True)\n",
    "    data[data<0.05]=0\n",
    "    \"\"\"\n",
    "    data = data[:, :, :10, ...]\n",
    "    if data.shape[-1] > 8:\n",
    "        #return data[..., [0,1,4,5,6,7,10,11]].astype(np.float16)\n",
    "        return data[..., [0,1,4,5,6,7,10,11]].astype(np.float32)\n",
    "\n",
    "    #return data.astype(np.float16)\n",
    "\n",
    "    return data.astype(np.float32)\n"
   ]
  },
  {
   "cell_type": "code",
   "execution_count": 26,
   "id": "159cc0a1",
   "metadata": {},
   "outputs": [],
   "source": [
    "import tensorflow as tf\n",
    "import numpy as np\n",
    "from typing import Optional\n",
    "from sklearn.metrics import confusion_matrix, classification_report\n",
    "import tensorflow_model_optimization as tfmot\n",
    "# from .sequence_gen import Sequence\n",
    "# from .helper import tf_model_evaluate\n",
    "\n",
    "class Quantise:\n",
    "    def __init__(self, model : tf.keras.Sequential, parameters : dict):\n",
    "        self.model = None\n",
    "        self.converter = tf.lite.TFLiteConverter.from_keras_model(model)\n",
    "        self.converter.optimizations = [parameters[\"optimizations\"]]\n",
    "        self.converter.target_spec.supported_ops = [parameters[\"opset\"]]\n",
    "        if parameters[\"representative_dataset_gen\"] is not None:\n",
    "            self.converter.representative_dataset = self.__create_rep_datagen(parameters[\"representative_dataset_gen\"])\n",
    "        self.interpreter = None\n",
    "        self.quant_type = \"float32\"\n",
    "        \n",
    "    def __create_rep_datagen(self, rep_seq : Sequence):\n",
    "        def rep_datagen():\n",
    "            for batch in rep_seq:\n",
    "                for item in batch[0]:\n",
    "                    shape = (1,) + item.shape\n",
    "                    new_item = np.reshape(item.astype(np.float32), shape)\n",
    "                    yield [new_item]\n",
    "        return rep_datagen\n",
    "            \n",
    "    def convert(self):\n",
    "        try:\n",
    "            self.model = self.converter.convert()\n",
    "        except:\n",
    "            raise Exception(\"Conversion unsuccessful.\")\n",
    "            \n",
    "    def save(self, filename : str, directory : str):\n",
    "        if self.model is not None:\n",
    "            with open(directory + filename, 'wb') as f:\n",
    "                f.write(self.model)\n",
    "        print(\"Saved to \" + directory + filename)\n",
    "                \n",
    "    def evaluate(self, val_data : Sequence) -> dict: \n",
    "        if self.model is not None:\n",
    "            if self.interpreter is None:\n",
    "                self.interpreter = tf.lite.Interpreter(model_content=self.model)\n",
    "                self.interpreter.allocate_tensors()\n",
    "\n",
    "            input_tensor_index = self.interpreter.get_input_details()[0][\"index\"]\n",
    "            output_tensor_index = self.interpreter.get_output_details()[0][\"index\"]\n",
    "\n",
    "            preds = []\n",
    "            trues = []\n",
    "            pred_prob = []\n",
    "\n",
    "            print(\"Evaluating .tflite model. Please wait...\")\n",
    "\n",
    "            for batch in val_data: #batch[0]: samples, batch[1]: labels\n",
    "                data = batch[0]\n",
    "                labels = batch[1]\n",
    "                b_size = len(labels)\n",
    "\n",
    "                for i in range(b_size):\n",
    "                    inp = data[i]\n",
    "                    shape = (1,) + inp.shape\n",
    "                    inp = np.reshape(inp, shape)\n",
    "\n",
    "                    y_true = labels[1]\n",
    "\n",
    "                    inp = inp.astype(np.float32)\n",
    "\n",
    "                    self.interpreter.set_tensor(input_tensor_index, inp)\n",
    "                    self.interpreter.invoke()\n",
    "\n",
    "                    y_pred = self.interpreter.get_tensor(output_tensor_index)\n",
    "                    y_pred_class = np.argmax(y_pred, axis=-1)\n",
    "                    pred_prob.append(np.amax(y_pred, axis=-1))\n",
    "                    trues.append(y_true)\n",
    "                    preds.append(y_pred_class)\n",
    "\n",
    "            y_true = np.array(trues)\n",
    "            y_pred_prob = np.array(pred_prob)\n",
    "            y_pred = np.array(preds)\n",
    "            report = classification_report(y_true=y_true, y_pred=y_pred, output_dict=True)\n",
    "\n",
    "            return report\n",
    "        else:\n",
    "            raise Exception(\"Model not defined!\")\n",
    "            \n",
    "\n",
    "class Prune:\n",
    "    def __init__(self, model : tf.keras.Sequential, parameters : dict):\n",
    "        prune_low_magnitude = tfmot.sparsity.keras.prune_low_magnitude\n",
    "        self.batch_size = parameters[\"batch_size\"]\n",
    "        self.epochs = parameters[\"epochs\"]\n",
    "        self.train_data = parameters[\"train_sequence\"]\n",
    "        self.val_data = parameters[\"validation_sequence\"]\n",
    "\n",
    "        end_step = np.ceil(self.train_data.__len__() / self.batch_size).astype(np.int32) * self.epochs\n",
    "        \n",
    "        pruning_params = { \n",
    "            'pruning_schedule': tfmot.sparsity.keras.PolynomialDecay(initial_sparsity=0.50,\n",
    "                                                                     final_sparsity=0.80,\n",
    "                                                                     begin_step=0,\n",
    "                                                                     end_step=end_step)\n",
    "        }\n",
    "        \n",
    "        self.model = prune_low_magnitude(model, **pruning_params)\n",
    "        self.model_stripped = None\n",
    "        self.model.compile(optimizer='adam',\n",
    "              loss=tf.keras.losses.SparseCategoricalCrossentropy(from_logits=True),\n",
    "              metrics=['accuracy'])\n",
    "        \n",
    "    def summary(self):\n",
    "        return self.model.summary()\n",
    "    \n",
    "    def tune(self):\n",
    "        callbacks = [\n",
    "          tfmot.sparsity.keras.UpdatePruningStep(),\n",
    "        ]\n",
    "\n",
    "        self.model.fit(self.train_data, validation_data=self.val_data,\n",
    "                          batch_size=self.batch_size, epochs=self.epochs,\n",
    "                          callbacks=callbacks)\n",
    "        \n",
    "        self.model_stripped = tfmot.sparsity.keras.strip_pruning(self.model)\n",
    "        \n",
    "    def save(self, filename : str, directory : str):\n",
    "        # Strip pruning overhead\n",
    "        if self.model_stripped is not None:\n",
    "            print(\"Saving model (without pruning overhead) to: \", directory + filename)\n",
    "            tf.keras.models.save_model(self.model_stripped, directory + filename, include_optimizer=False)\n",
    "        else:\n",
    "            print(\"Could not save. Train model first!\")\n",
    "        \n",
    "    def evaluate(self):\n",
    "        return tf_model_evaluate(self.model, self.val_data)\n",
    "    \n",
    "class ClusterWeights:\n",
    "    def __init__(self, model : tf.keras.Sequential, parameters : dict):\n",
    "        cluster_weights = tfmot.clustering.keras.cluster_weights\n",
    "        CentroidInitialization = tfmot.clustering.keras.CentroidInitialization\n",
    "        self.train_data = parameters[\"train_sequence\"]\n",
    "        self.val_data = parameters[\"validation_sequence\"]\n",
    "        self.batch_size = parameters[\"batch_size\"] # 500\n",
    "        self.epochs = parameters[\"epochs\"] # 1\n",
    "\n",
    "        clustering_params = {\n",
    "          'number_of_clusters': parameters[\"number_of_clusters\"],\n",
    "          'cluster_centroids_init': CentroidInitialization.LINEAR\n",
    "        }\n",
    "        \n",
    "        self.model = cluster_weights(model, **clustering_params)\n",
    "        self.model.compile(loss=tf.keras.losses.SparseCategoricalCrossentropy(from_logits=True),\n",
    "                           optimizer=tf.keras.optimizers.Adam(learning_rate=1e-5),\n",
    "                           metrics=['accuracy'])\n",
    "        \n",
    "    def tune(self):\n",
    "        self.model.fit(self.train_data, validation_data=self.val_data, batch_size=self.batch_size, epochs=self.epochs)\n",
    "        self.model_stripped = tfmot.clustering.keras.strip_clustering(self.model)\n",
    "        \n",
    "    def summary(self):\n",
    "        return self.model.summary()\n",
    "    \n",
    "    def save(self, filename : str, directory : str):\n",
    "        # Strip clustering overhead\n",
    "        if self.model_stripped is not None:\n",
    "            print(\"Saving model (without clustering overhead) to: \", directory + filename)\n",
    "            tf.keras.models.save_model(self.model_stripped, directory + filename, include_optimizer=False)\n",
    "    \n",
    "    def evaluate(self):\n",
    "        return tf_model_evaluate(self.model, self.val_data)\n"
   ]
  },
  {
   "cell_type": "markdown",
   "id": "43cd8371",
   "metadata": {},
   "source": [
    "# Generating and analysing datasets"
   ]
  },
  {
   "cell_type": "markdown",
   "id": "dc709e2e",
   "metadata": {},
   "source": [
    "Generate training dataset. The `sequence_gen` function loads the data and applies the preprocessing function."
   ]
  },
  {
   "cell_type": "code",
   "execution_count": 5,
   "id": "9c1ac4ae",
   "metadata": {},
   "outputs": [],
   "source": [
    "config = load_yaml(\"default_config.yaml\")\n",
    "output_size = 5"
   ]
  },
  {
   "cell_type": "code",
   "execution_count": 6,
   "id": "e756b149",
   "metadata": {},
   "outputs": [
    {
     "name": "stdout",
     "output_type": "stream",
     "text": [
      "Directory: /ifxhome/pplcount/data_antipeeking2/all_recs_1_5m_train/\n",
      "Current file: TS-012022_09_20_15_29_24radar.npy\n",
      "Progress: 188/188\n"
     ]
    }
   ],
   "source": [
    "train_data = Sequence(config['data_settings']['parent_path'], preprocess_func=preprocess,\n",
    "                      classification=config['network_settings']['classification'], l_count=output_size, \n",
    "                      reshape=True)"
   ]
  },
  {
   "cell_type": "markdown",
   "id": "f58b2188",
   "metadata": {},
   "source": [
    "Generate validation dataset."
   ]
  },
  {
   "cell_type": "code",
   "execution_count": 7,
   "id": "6e7c402c",
   "metadata": {},
   "outputs": [
    {
     "name": "stdout",
     "output_type": "stream",
     "text": [
      "Directory: /ifxhome/pplcount/data_antipeeking2/all_recs_1_5m_test/\n",
      "Current file: complex_2TS-102022_10_07_11_30_55radar.npy\n",
      "Progress: 283/283\n"
     ]
    }
   ],
   "source": [
    "val_data = Sequence(config['data_settings']['val_parent_path'], preprocess_func=preprocess,\n",
    "                    classification=config['network_settings']['classification'], test=True,\n",
    "                    l_count=output_size, reshape=True)"
   ]
  },
  {
   "cell_type": "code",
   "execution_count": 8,
   "id": "757d6e90",
   "metadata": {},
   "outputs": [
    {
     "data": {
      "text/plain": [
       "Text(0, 0.5, 'Number')"
      ]
     },
     "execution_count": 8,
     "metadata": {},
     "output_type": "execute_result"
    },
    {
     "data": {
      "image/png": "[encoded data removed]",
      "text/plain": [
       "<Figure size 640x480 with 2 Axes>"
      ]
     },
     "metadata": {},
     "output_type": "display_data"
    }
   ],
   "source": [
    "train_dist = train_data.get_dist()\n",
    "val_dist = val_data.get_dist()\n",
    "names = list(train_dist.keys())\n",
    "\n",
    "fig, (ax1, ax2) = plt.subplots(1, 2, constrained_layout=True)\n",
    "\n",
    "values = list(train_dist.values())\n",
    "ax1.bar(names, values)\n",
    "ax1.set_title(\"Training data\")\n",
    "ax1.set_xlabel(\"Label\")\n",
    "ax1.set_ylabel(\"Number\")\n",
    "\n",
    "values = list(val_dist.values())\n",
    "ax2.bar(names, values)\n",
    "ax2.set_title(\"Validation data\")\n",
    "ax2.set_xlabel(\"Label\")\n",
    "ax2.set_ylabel(\"Number\")"
   ]
  },
  {
   "cell_type": "markdown",
   "id": "a42f855b",
   "metadata": {},
   "source": [
    "# Defining and training a CNN-Based model"
   ]
  },
  {
   "cell_type": "code",
   "execution_count": null,
   "id": "51123dae",
   "metadata": {},
   "outputs": [],
   "source": [
    "model = tf.keras.Sequential([\n",
    "    tf.keras.layers.InputLayer(input_shape=(16, 10, 64)),  # 64 is batch size\n",
    "    tf.keras.layers.DepthwiseConv2D(kernel_size=3, strides=1, activation=\"relu\"),\n",
    "    tf.keras.layers.Conv2D(filters=4, kernel_size=(3,3), activation=\"relu\"),\n",
    "    tf.keras.layers.BatchNormalization(),\n",
    "    tf.keras.layers.Flatten(),\n",
    "    tf.keras.layers.Dense(50),\n",
    "    tf.keras.layers.Dense(output_size)\n",
    "])\n",
    "\n",
    "model.summary()"
   ]
  },
  {
   "cell_type": "code",
   "execution_count": 11,
   "id": "70cd1563",
   "metadata": {
    "scrolled": true
   },
   "outputs": [
    {
     "name": "stdout",
     "output_type": "stream",
     "text": [
      "Epoch 1/10\n"
     ]
    },
    {
     "name": "stderr",
     "output_type": "stream",
     "text": [
      "2023-07-21 13:21:26.515601: I tensorflow/core/common_runtime/executor.cc:1197] [/device:CPU:0] (DEBUG INFO) Executor start aborting (this does not indicate an error and you can ignore this message): INVALID_ARGUMENT: You must feed a value for placeholder tensor 'Placeholder/_0' with dtype int32\n",
      "\t [[{{node Placeholder/_0}}]]\n"
     ]
    },
    {
     "name": "stdout",
     "output_type": "stream",
     "text": [
      "3832/3832 [==============================] - ETA: 0s - loss: 0.5891 - accuracy: 0.7630"
     ]
    },
    {
     "name": "stderr",
     "output_type": "stream",
     "text": [
      "2023-07-21 13:23:03.919707: I tensorflow/core/common_runtime/executor.cc:1197] [/device:CPU:0] (DEBUG INFO) Executor start aborting (this does not indicate an error and you can ignore this message): INVALID_ARGUMENT: You must feed a value for placeholder tensor 'Placeholder/_0' with dtype int32\n",
      "\t [[{{node Placeholder/_0}}]]\n"
     ]
    },
    {
     "name": "stdout",
     "output_type": "stream",
     "text": [
      "3832/3832 [==============================] - 132s 34ms/step - loss: 0.5891 - accuracy: 0.7630 - val_loss: 0.8882 - val_accuracy: 0.6988\n",
      "Epoch 2/10\n",
      "3832/3832 [==============================] - 130s 34ms/step - loss: 0.5164 - accuracy: 0.7893 - val_loss: 0.7379 - val_accuracy: 0.7191\n",
      "Epoch 3/10\n",
      "3832/3832 [==============================] - 131s 34ms/step - loss: 0.5037 - accuracy: 0.7925 - val_loss: 0.6302 - val_accuracy: 0.7693\n",
      "Epoch 4/10\n",
      "3832/3832 [==============================] - 131s 34ms/step - loss: 0.4942 - accuracy: 0.7965 - val_loss: 0.6162 - val_accuracy: 0.7422\n",
      "Epoch 5/10\n",
      "3832/3832 [==============================] - 130s 34ms/step - loss: 0.4882 - accuracy: 0.7974 - val_loss: 0.6365 - val_accuracy: 0.7428\n",
      "Epoch 6/10\n",
      "3832/3832 [==============================] - 131s 34ms/step - loss: 0.4803 - accuracy: 0.8004 - val_loss: 0.6935 - val_accuracy: 0.7412\n",
      "Epoch 7/10\n",
      "3832/3832 [==============================] - 133s 35ms/step - loss: 0.4753 - accuracy: 0.8024 - val_loss: 0.7037 - val_accuracy: 0.7290\n",
      "Epoch 8/10\n",
      "3832/3832 [==============================] - 132s 34ms/step - loss: 0.4719 - accuracy: 0.8037 - val_loss: 0.6625 - val_accuracy: 0.7481\n",
      "Epoch 9/10\n",
      "3832/3832 [==============================] - 132s 34ms/step - loss: 0.4697 - accuracy: 0.8042 - val_loss: 0.6919 - val_accuracy: 0.7406\n",
      "Epoch 10/10\n",
      "3832/3832 [==============================] - 131s 34ms/step - loss: 0.4680 - accuracy: 0.8046 - val_loss: 0.6518 - val_accuracy: 0.7554\n"
     ]
    },
    {
     "data": {
      "text/plain": [
       "<keras.callbacks.History at 0x7f69a8c69100>"
      ]
     },
     "execution_count": 11,
     "metadata": {},
     "output_type": "execute_result"
    }
   ],
   "source": [
    "model.compile(optimizer='adam',\n",
    "              loss=tf.keras.losses.SparseCategoricalCrossentropy(from_logits=True),\n",
    "              metrics=['accuracy'])\n",
    "\n",
    "\n",
    "# model.fit(train_data.data, train_data.labels, validation_split=0.2, epochs=2, class_weight=class_weight)\n",
    "model.fit(train_data, validation_data=val_data, epochs=10)"
   ]
  },
  {
   "cell_type": "code",
   "execution_count": 12,
   "id": "c554327c",
   "metadata": {},
   "outputs": [
    {
     "name": "stdout",
     "output_type": "stream",
     "text": [
      "Saving model to:  models/u_model_slim.h5\n"
     ]
    }
   ],
   "source": [
    "model_file = 'u_model_slim.h5'\n",
    "model_file_opt = 'u_model_slim_opt.h5' # For finding compression factor\n",
    "print('Saving model to: ', 'models/' + model_file)\n",
    "tf.keras.models.save_model(model, 'models/' +\n",
    "                           model_file, include_optimizer=False)\n",
    "tf.keras.models.save_model(model, 'models/' +\n",
    "                           model_file_opt)"
   ]
  },
  {
   "cell_type": "markdown",
   "id": "e01a37e4",
   "metadata": {},
   "source": [
    "# Loading the uncompressed (basline) model\n",
    "\n",
    "Required for analysing the compression techniques that follow."
   ]
  },
  {
   "cell_type": "code",
   "execution_count": 10,
   "id": "f7aae38d",
   "metadata": {},
   "outputs": [
    {
     "name": "stdout",
     "output_type": "stream",
     "text": [
      "WARNING:tensorflow:No training configuration found in the save file, so the model was *not* compiled. Compile it manually.\n",
      "Model: \"sequential\"\n",
      "_________________________________________________________________\n",
      " Layer (type)                Output Shape              Param #   \n",
      "=================================================================\n",
      " depthwise_conv2d (Depthwise  (None, 14, 8, 64)        640       \n",
      " Conv2D)                                                         \n",
      "                                                                 \n",
      " conv2d (Conv2D)             (None, 12, 6, 4)          2308      \n",
      "                                                                 \n",
      " batch_normalization (BatchN  (None, 12, 6, 4)         16        \n",
      " ormalization)                                                   \n",
      "                                                                 \n",
      " flatten (Flatten)           (None, 288)               0         \n",
      "                                                                 \n",
      " dense (Dense)               (None, 50)                14450     \n",
      "                                                                 \n",
      " dense_1 (Dense)             (None, 5)                 255       \n",
      "                                                                 \n",
      "=================================================================\n",
      "Total params: 17,669\n",
      "Trainable params: 17,661\n",
      "Non-trainable params: 8\n",
      "_________________________________________________________________\n"
     ]
    }
   ],
   "source": [
    "u_model = tf.keras.models.load_model(\"models/u_model_slim.h5\")\n",
    "u_model.summary()"
   ]
  },
  {
   "cell_type": "code",
   "execution_count": 11,
   "id": "7e897492",
   "metadata": {},
   "outputs": [
    {
     "name": "stdout",
     "output_type": "stream",
     "text": [
      "Progress: 3705/3705\n"
     ]
    }
   ],
   "source": [
    "u_model_metrics = tf_model_evaluate(u_model, val_data)\n"
   ]
  },
  {
   "cell_type": "code",
   "execution_count": 12,
   "id": "8c8ce72c",
   "metadata": {},
   "outputs": [
    {
     "name": "stdout",
     "output_type": "stream",
     "text": [
      "68.976KB\n"
     ]
    }
   ],
   "source": [
    "u_model_size = get_gzipped_model_size(\"models/u_model_slim.h5\")\n",
    "print(str(u_model_size) + \"KB\")"
   ]
  },
  {
   "cell_type": "markdown",
   "id": "bac1db53",
   "metadata": {},
   "source": [
    "# Post-training quantisation"
   ]
  },
  {
   "cell_type": "code",
   "execution_count": null,
   "id": "91a82d82",
   "metadata": {},
   "outputs": [],
   "source": [
    "# from toolbox.tflite_helper import Quantised, Pruned, Clustered"
   ]
  },
  {
   "cell_type": "markdown",
   "id": "3a546a67",
   "metadata": {},
   "source": [
    "Using model from this notebook"
   ]
  },
  {
   "cell_type": "code",
   "execution_count": 36,
   "id": "f19884b9",
   "metadata": {},
   "outputs": [
    {
     "name": "stderr",
     "output_type": "stream",
     "text": [
      "WARNING:absl:Found untraced functions such as _jit_compiled_convolution_op, _jit_compiled_convolution_op while saving (showing 2 of 2). These functions will not be directly callable after loading.\n"
     ]
    },
    {
     "name": "stdout",
     "output_type": "stream",
     "text": [
      "INFO:tensorflow:Assets written to: /tmp/tmpof0cs78m/assets\n"
     ]
    },
    {
     "name": "stderr",
     "output_type": "stream",
     "text": [
      "INFO:tensorflow:Assets written to: /tmp/tmpof0cs78m/assets\n",
      "/home/radar_embed2/virtualenvs/venv/lib/python3.9/site-packages/tensorflow/lite/python/convert.py:789: UserWarning: Statistics for quantized inputs were expected, but not specified; continuing anyway.\n",
      "  warnings.warn(\"Statistics for quantized inputs were expected, but not \"\n",
      "2023-07-24 10:44:24.080574: W tensorflow/compiler/mlir/lite/python/tf_tfl_flatbuffer_helpers.cc:364] Ignored output_format.\n",
      "2023-07-24 10:44:24.080599: W tensorflow/compiler/mlir/lite/python/tf_tfl_flatbuffer_helpers.cc:367] Ignored drop_control_dependency.\n",
      "2023-07-24 10:44:24.081297: I tensorflow/cc/saved_model/reader.cc:45] Reading SavedModel from: /tmp/tmpof0cs78m\n",
      "2023-07-24 10:44:24.082496: I tensorflow/cc/saved_model/reader.cc:89] Reading meta graph with tags { serve }\n",
      "2023-07-24 10:44:24.082514: I tensorflow/cc/saved_model/reader.cc:130] Reading SavedModel debug info (if present) from: /tmp/tmpof0cs78m\n",
      "2023-07-24 10:44:24.086050: I tensorflow/compiler/mlir/mlir_graph_optimization_pass.cc:353] MLIR V1 optimization pass is not enabled\n",
      "2023-07-24 10:44:24.086974: I tensorflow/cc/saved_model/loader.cc:231] Restoring SavedModel bundle.\n",
      "2023-07-24 10:44:24.237074: I tensorflow/cc/saved_model/loader.cc:215] Running initialization op on SavedModel bundle at path: /tmp/tmpof0cs78m\n",
      "2023-07-24 10:44:24.245950: I tensorflow/cc/saved_model/loader.cc:314] SavedModel load for tags { serve }; Status: success: OK. Took 164657 microseconds.\n",
      "2023-07-24 10:44:24.499483: I tensorflow/compiler/mlir/tensorflow/utils/dump_mlir_util.cc:269] disabling MLIR crash reproducer, set env var `MLIR_CRASH_REPRODUCER_DIRECTORY` to enable.\n",
      "fully_quantize: 0, inference_type: 6, input_inference_type: FLOAT32, output_inference_type: FLOAT32\n"
     ]
    }
   ],
   "source": [
    "quant_params = {\n",
    "    \"optimizations\" : tf.lite.Optimize.DEFAULT,\n",
    "    \"opset\" : tf.lite.OpsSet.TFLITE_BUILTINS_INT8,\n",
    "    \"representative_dataset_gen\" : val_data\n",
    "}\n",
    "\n",
    "q_model = Quantise(u_model, parameters=quant_params)\n",
    "q_model.convert()"
   ]
  },
  {
   "cell_type": "code",
   "execution_count": 84,
   "id": "ce5725ae",
   "metadata": {},
   "outputs": [
    {
     "name": "stdout",
     "output_type": "stream",
     "text": [
      "Saved to models/quant_test_slim_v2.tflite\n"
     ]
    }
   ],
   "source": [
    "q_model.save(\"quant_test_slim_v2.tflite\", \"models/\")"
   ]
  },
  {
   "cell_type": "code",
   "execution_count": 74,
   "id": "50c1e959",
   "metadata": {},
   "outputs": [
    {
     "name": "stderr",
     "output_type": "stream",
     "text": [
      "INFO: Created TensorFlow Lite XNNPACK delegate for CPU.\n"
     ]
    },
    {
     "name": "stdout",
     "output_type": "stream",
     "text": [
      "Evaluating .tflite model. Please wait...\n"
     ]
    }
   ],
   "source": [
    "q_model_metrics = q_model.evaluate(val_data)"
   ]
  },
  {
   "cell_type": "code",
   "execution_count": 75,
   "id": "6bee7d1b",
   "metadata": {},
   "outputs": [
    {
     "name": "stdout",
     "output_type": "stream",
     "text": [
      "Uncompressed model size:  68.976  KB\n",
      "Quantised model size:  17.416  KB\n",
      "Uncompressed model validation accuracy (%): 75.47106950067476\n",
      "Quantised model validation accuracy (%): 60.54107624831309\n",
      "Accuracy loss (%): 14.929993252361673\n",
      "Compression factor: 3.960496095544327\n"
     ]
    }
   ],
   "source": [
    "# Evaluate model sizes\n",
    "q_model_size = get_gzipped_model_size(\"models/quant_test_slim.tflite\")\n",
    "print(\"Uncompressed model size: \", u_model_size, ' KB')\n",
    "print(\"Quantised model size: \", q_model_size, ' KB')\n",
    "\n",
    "# Print results\n",
    "print('Uncompressed model validation accuracy (%):', u_model_metrics['accuracy'] * 100)\n",
    "print('Quantised model validation accuracy (%):', q_model_metrics['accuracy'] * 100)\n",
    "print(\"Accuracy loss (%):\", (u_model_metrics['accuracy'] - q_model_metrics['accuracy']) * 100)\n",
    "print(\"Compression factor:\", u_model_size/q_model_size)"
   ]
  },
  {
   "cell_type": "code",
   "execution_count": 25,
   "id": "86f93a7f",
   "metadata": {},
   "outputs": [],
   "source": [
    "# Convert .tflite file to a C array\n",
    "!xxd -i models/quant_test_slim.tflite > quant_test_slim.cc"
   ]
  },
  {
   "cell_type": "code",
   "execution_count": null,
   "id": "4b9ad819",
   "metadata": {},
   "outputs": [],
   "source": [
    "# import tinymlgen as tg\n",
    "# c_code = tg.port(quant_model, pretty_print=True)"
   ]
  },
  {
   "cell_type": "markdown",
   "id": "126bb1e0",
   "metadata": {},
   "source": [
    "# Pruning"
   ]
  },
  {
   "cell_type": "code",
   "execution_count": 37,
   "id": "8b05522f",
   "metadata": {},
   "outputs": [
    {
     "name": "stdout",
     "output_type": "stream",
     "text": [
      "Defaulting to user installation because normal site-packages is not writeable\n",
      "Requirement already satisfied: tensorflow_model_optimization in /home/zaman/.local/lib/python3.9/site-packages (0.7.5)\n",
      "Requirement already satisfied: absl-py~=1.2 in /home/radar_embed2/virtualenvs/venv/lib/python3.9/site-packages (from tensorflow_model_optimization) (1.4.0)\n",
      "Requirement already satisfied: dm-tree~=0.1.1 in /home/radar_embed2/virtualenvs/venv/lib/python3.9/site-packages (from tensorflow_model_optimization) (0.1.8)\n",
      "Requirement already satisfied: numpy~=1.23 in /home/radar_embed2/virtualenvs/venv/lib/python3.9/site-packages (from tensorflow_model_optimization) (1.23.5)\n",
      "Requirement already satisfied: six~=1.14 in /home/radar_embed2/virtualenvs/venv/lib/python3.9/site-packages (from tensorflow_model_optimization) (1.16.0)\n"
     ]
    }
   ],
   "source": [
    "!pip install tensorflow_model_optimization"
   ]
  },
  {
   "cell_type": "code",
   "execution_count": 13,
   "id": "6d70cd23",
   "metadata": {},
   "outputs": [
    {
     "name": "stdout",
     "output_type": "stream",
     "text": [
      "Model: \"sequential\"\n",
      "_________________________________________________________________\n",
      " Layer (type)                Output Shape              Param #   \n",
      "=================================================================\n",
      " prune_low_magnitude_depthwi  (None, 14, 8, 64)        641       \n",
      " se_conv2d (PruneLowMagnitud                                     \n",
      " e)                                                              \n",
      "                                                                 \n",
      " prune_low_magnitude_conv2d   (None, 12, 6, 4)         4614      \n",
      " (PruneLowMagnitude)                                             \n",
      "                                                                 \n",
      " prune_low_magnitude_batch_n  (None, 12, 6, 4)         17        \n",
      " ormalization (PruneLowMagni                                     \n",
      " tude)                                                           \n",
      "                                                                 \n",
      " prune_low_magnitude_flatten  (None, 288)              1         \n",
      "  (PruneLowMagnitude)                                            \n",
      "                                                                 \n",
      " prune_low_magnitude_dense (  (None, 50)               28852     \n",
      " PruneLowMagnitude)                                              \n",
      "                                                                 \n",
      " prune_low_magnitude_dense_1  (None, 5)                507       \n",
      "  (PruneLowMagnitude)                                            \n",
      "                                                                 \n",
      "=================================================================\n",
      "Total params: 34,632\n",
      "Trainable params: 17,661\n",
      "Non-trainable params: 16,971\n",
      "_________________________________________________________________\n"
     ]
    }
   ],
   "source": [
    "pruning_params = {\n",
    "    \"batch_size\" : 64,\n",
    "    \"epochs\" : 2,\n",
    "    \"train_sequence\" : train_data,\n",
    "    \"validation_sequence\" : val_data\n",
    "}\n",
    "\n",
    "p_model = Prune(u_model, parameters=pruning_params)\n",
    "p_model.summary()"
   ]
  },
  {
   "cell_type": "code",
   "execution_count": 14,
   "id": "a70788b4",
   "metadata": {},
   "outputs": [
    {
     "name": "stdout",
     "output_type": "stream",
     "text": [
      "Epoch 1/2\n"
     ]
    },
    {
     "name": "stderr",
     "output_type": "stream",
     "text": [
      "2023-07-24 17:50:32.388834: I tensorflow/core/common_runtime/executor.cc:1197] [/device:CPU:0] (DEBUG INFO) Executor start aborting (this does not indicate an error and you can ignore this message): INVALID_ARGUMENT: You must feed a value for placeholder tensor 'Placeholder/_0' with dtype int32\n",
      "\t [[{{node Placeholder/_0}}]]\n"
     ]
    },
    {
     "name": "stdout",
     "output_type": "stream",
     "text": [
      "3828/3832 [============================>.] - ETA: 0s - loss: 0.5359 - accuracy: 0.7765"
     ]
    },
    {
     "name": "stderr",
     "output_type": "stream",
     "text": [
      "2023-07-24 17:51:20.431465: I tensorflow/core/common_runtime/executor.cc:1197] [/device:CPU:0] (DEBUG INFO) Executor start aborting (this does not indicate an error and you can ignore this message): INVALID_ARGUMENT: You must feed a value for placeholder tensor 'Placeholder/_0' with dtype int32\n",
      "\t [[{{node Placeholder/_0}}]]\n"
     ]
    },
    {
     "name": "stdout",
     "output_type": "stream",
     "text": [
      "3832/3832 [==============================] - 76s 19ms/step - loss: 0.5359 - accuracy: 0.7766 - val_loss: 0.6182 - val_accuracy: 0.7438\n",
      "Epoch 2/2\n",
      "3832/3832 [==============================] - 73s 19ms/step - loss: 0.5132 - accuracy: 0.7885 - val_loss: 0.6057 - val_accuracy: 0.7596\n"
     ]
    }
   ],
   "source": [
    "p_model.tune()"
   ]
  },
  {
   "cell_type": "code",
   "execution_count": 15,
   "id": "26e4d352",
   "metadata": {},
   "outputs": [
    {
     "name": "stdout",
     "output_type": "stream",
     "text": [
      "Saving model (without pruning overhead) to:  models/pruned_model.h5\n",
      "WARNING:tensorflow:Compiled the loaded model, but the compiled metrics have yet to be built. `model.compile_metrics` will be empty until you train or evaluate the model.\n"
     ]
    }
   ],
   "source": [
    "p_model.save(\"pruned_model.h5\", \"models/\")"
   ]
  },
  {
   "cell_type": "code",
   "execution_count": 16,
   "id": "caeb79ca",
   "metadata": {},
   "outputs": [
    {
     "name": "stdout",
     "output_type": "stream",
     "text": [
      "Progress: 3705/3705\n"
     ]
    }
   ],
   "source": [
    "p_model_metrics = p_model.evaluate()"
   ]
  },
  {
   "cell_type": "code",
   "execution_count": 17,
   "id": "940429d9",
   "metadata": {},
   "outputs": [
    {
     "name": "stdout",
     "output_type": "stream",
     "text": [
      "Uncompressed model size:  68.976  KB\n",
      "Pruned model size:  26.074  KB\n",
      "Uncompressed model validation accuracy (%): 75.42594466936572\n",
      "Pruned model validation accuracy (%): 75.96997300944669\n",
      "Accuracy loss (%): -0.5440283400809709\n",
      "Compression factor: 2.6453938789598834\n"
     ]
    }
   ],
   "source": [
    "# Evaluate model sizes\n",
    "u_model_size = get_gzipped_model_size(\"models/u_model_slim.h5\")\n",
    "p_model_size = get_gzipped_model_size(\"models/pruned_model.h5\")\n",
    "print(\"Uncompressed model size: \", u_model_size, ' KB')\n",
    "print(\"Pruned model size: \", p_model_size, ' KB')\n",
    "\n",
    "# Print results\n",
    "print('Uncompressed model validation accuracy (%):', u_model_metrics['accuracy'] * 100)\n",
    "print('Pruned model validation accuracy (%):', p_model_metrics['accuracy'] * 100)\n",
    "print(\"Accuracy loss (%):\", (u_model_metrics['accuracy'] - p_model_metrics['accuracy']) * 100)\n",
    "print(\"Compression factor:\", u_model_size/p_model_size)"
   ]
  },
  {
   "cell_type": "markdown",
   "id": "a47976ef",
   "metadata": {},
   "source": [
    "**Quantising pruned model**"
   ]
  },
  {
   "cell_type": "code",
   "execution_count": 20,
   "id": "703ef6ae",
   "metadata": {
    "scrolled": true
   },
   "outputs": [
    {
     "name": "stderr",
     "output_type": "stream",
     "text": [
      "WARNING:absl:Found untraced functions such as _jit_compiled_convolution_op, _jit_compiled_convolution_op while saving (showing 2 of 2). These functions will not be directly callable after loading.\n"
     ]
    },
    {
     "name": "stdout",
     "output_type": "stream",
     "text": [
      "INFO:tensorflow:Assets written to: /tmp/tmpjscvfawz/assets\n"
     ]
    },
    {
     "name": "stderr",
     "output_type": "stream",
     "text": [
      "INFO:tensorflow:Assets written to: /tmp/tmpjscvfawz/assets\n",
      "/home/radar_embed2/virtualenvs/venv/lib/python3.9/site-packages/tensorflow/lite/python/convert.py:789: UserWarning: Statistics for quantized inputs were expected, but not specified; continuing anyway.\n",
      "  warnings.warn(\"Statistics for quantized inputs were expected, but not \"\n",
      "2023-07-24 17:57:01.901432: W tensorflow/compiler/mlir/lite/python/tf_tfl_flatbuffer_helpers.cc:364] Ignored output_format.\n",
      "2023-07-24 17:57:01.901464: W tensorflow/compiler/mlir/lite/python/tf_tfl_flatbuffer_helpers.cc:367] Ignored drop_control_dependency.\n",
      "2023-07-24 17:57:01.901799: I tensorflow/cc/saved_model/reader.cc:45] Reading SavedModel from: /tmp/tmpjscvfawz\n",
      "2023-07-24 17:57:01.902969: I tensorflow/cc/saved_model/reader.cc:89] Reading meta graph with tags { serve }\n",
      "2023-07-24 17:57:01.902987: I tensorflow/cc/saved_model/reader.cc:130] Reading SavedModel debug info (if present) from: /tmp/tmpjscvfawz\n",
      "2023-07-24 17:57:01.906434: I tensorflow/compiler/mlir/mlir_graph_optimization_pass.cc:353] MLIR V1 optimization pass is not enabled\n",
      "2023-07-24 17:57:01.907317: I tensorflow/cc/saved_model/loader.cc:231] Restoring SavedModel bundle.\n",
      "2023-07-24 17:57:01.934071: I tensorflow/cc/saved_model/loader.cc:215] Running initialization op on SavedModel bundle at path: /tmp/tmpjscvfawz\n",
      "2023-07-24 17:57:01.942200: I tensorflow/cc/saved_model/loader.cc:314] SavedModel load for tags { serve }; Status: success: OK. Took 40403 microseconds.\n",
      "2023-07-24 17:57:01.961905: I tensorflow/compiler/mlir/tensorflow/utils/dump_mlir_util.cc:269] disabling MLIR crash reproducer, set env var `MLIR_CRASH_REPRODUCER_DIRECTORY` to enable.\n",
      "fully_quantize: 0, inference_type: 6, input_inference_type: FLOAT32, output_inference_type: FLOAT32\n"
     ]
    }
   ],
   "source": [
    "quant_params = {\n",
    "    \"optimizations\" : tf.lite.Optimize.DEFAULT,\n",
    "    \"opset\" : tf.lite.OpsSet.TFLITE_BUILTINS_INT8,\n",
    "    \"representative_dataset_gen\" : val_data\n",
    "}\n",
    "\n",
    "q2_model = Quantise(p_model.model_stripped, parameters=quant_params)\n",
    "q2_model.convert()"
   ]
  },
  {
   "cell_type": "code",
   "execution_count": 21,
   "id": "8bcc411e",
   "metadata": {},
   "outputs": [
    {
     "name": "stdout",
     "output_type": "stream",
     "text": [
      "Saved to models/quant_test_slim_pruned.tflite\n"
     ]
    }
   ],
   "source": [
    "q2_model.save(\"quant_test_slim_pruned.tflite\", \"models/\")"
   ]
  },
  {
   "cell_type": "code",
   "execution_count": 22,
   "id": "fd057bcd",
   "metadata": {
    "scrolled": true
   },
   "outputs": [
    {
     "name": "stderr",
     "output_type": "stream",
     "text": [
      "INFO: Created TensorFlow Lite XNNPACK delegate for CPU.\n"
     ]
    },
    {
     "name": "stdout",
     "output_type": "stream",
     "text": [
      "Evaluating .tflite model. Please wait...\n"
     ]
    }
   ],
   "source": [
    "q2_model_metrics = q2_model.evaluate(val_data)"
   ]
  },
  {
   "cell_type": "code",
   "execution_count": 23,
   "id": "892e81b5",
   "metadata": {},
   "outputs": [
    {
     "name": "stdout",
     "output_type": "stream",
     "text": [
      "Uncompressed model size:  68.976  KB\n",
      "Quantised model size:  9.325  KB\n",
      "Uncompressed model validation accuracy (%): 75.42594466936572\n",
      "Quantised model validation accuracy (%): 62.24612010796221\n",
      "Accuracy loss (%): 13.179824561403509\n",
      "Compression factor: 7.396890080428955\n"
     ]
    }
   ],
   "source": [
    "# Evaluate model sizes\n",
    "q2_model_size = get_gzipped_model_size(\"models/quant_test_slim_pruned.tflite\")\n",
    "print(\"Uncompressed model size: \", u_model_size, ' KB')\n",
    "print(\"Quantised model size: \", q2_model_size, ' KB')\n",
    "\n",
    "# Print results\n",
    "print('Uncompressed model validation accuracy (%):', u_model_metrics['accuracy'] * 100)\n",
    "print('Quantised model validation accuracy (%):', q2_model_metrics['accuracy'] * 100)\n",
    "print(\"Accuracy loss (%):\", (u_model_metrics['accuracy'] - q2_model_metrics['accuracy']) * 100)\n",
    "print(\"Compression factor:\", u_model_size/q2_model_size)"
   ]
  },
  {
   "cell_type": "markdown",
   "id": "c228c060",
   "metadata": {},
   "source": [
    "# Clustering"
   ]
  },
  {
   "cell_type": "code",
   "execution_count": 27,
   "id": "5c7d2f0d",
   "metadata": {},
   "outputs": [
    {
     "name": "stdout",
     "output_type": "stream",
     "text": [
      "Model: \"sequential\"\n",
      "_________________________________________________________________\n",
      " Layer (type)                Output Shape              Param #   \n",
      "=================================================================\n",
      " cluster_depthwise_conv2d (C  (None, 14, 8, 64)        640       \n",
      " lusterWeights)                                                  \n",
      "                                                                 \n",
      " cluster_conv2d (ClusterWeig  (None, 12, 6, 4)         4628      \n",
      " hts)                                                            \n",
      "                                                                 \n",
      " cluster_batch_normalization  (None, 12, 6, 4)         16        \n",
      "  (ClusterWeights)                                               \n",
      "                                                                 \n",
      " cluster_flatten (ClusterWei  (None, 288)              0         \n",
      " ghts)                                                           \n",
      "                                                                 \n",
      " cluster_dense (ClusterWeigh  (None, 50)               28866     \n",
      " ts)                                                             \n",
      "                                                                 \n",
      " cluster_dense_1 (ClusterWei  (None, 5)                521       \n",
      " ghts)                                                           \n",
      "                                                                 \n",
      "=================================================================\n",
      "Total params: 34,671\n",
      "Trainable params: 17,709\n",
      "Non-trainable params: 16,962\n",
      "_________________________________________________________________\n"
     ]
    }
   ],
   "source": [
    "clustering_params = {\n",
    "    \"batch_size\" : 500,\n",
    "    \"epochs\" : 1,\n",
    "    \"number_of_clusters\": 16,\n",
    "    \"train_sequence\" : train_data,\n",
    "    \"validation_sequence\" : val_data\n",
    "}\n",
    "\n",
    "c_model = ClusterWeights(u_model, parameters=clustering_params)\n",
    "c_model.summary()"
   ]
  },
  {
   "cell_type": "code",
   "execution_count": 28,
   "id": "5cfb76e0",
   "metadata": {},
   "outputs": [
    {
     "name": "stderr",
     "output_type": "stream",
     "text": [
      "2023-07-24 19:10:30.037724: I tensorflow/core/common_runtime/executor.cc:1197] [/device:CPU:0] (DEBUG INFO) Executor start aborting (this does not indicate an error and you can ignore this message): INVALID_ARGUMENT: You must feed a value for placeholder tensor 'Placeholder/_0' with dtype int32\n",
      "\t [[{{node Placeholder/_0}}]]\n"
     ]
    },
    {
     "name": "stdout",
     "output_type": "stream",
     "text": [
      "3828/3832 [============================>.] - ETA: 0s - loss: 0.9025 - accuracy: 0.6668"
     ]
    },
    {
     "name": "stderr",
     "output_type": "stream",
     "text": [
      "2023-07-24 19:11:21.313278: I tensorflow/core/common_runtime/executor.cc:1197] [/device:CPU:0] (DEBUG INFO) Executor start aborting (this does not indicate an error and you can ignore this message): INVALID_ARGUMENT: You must feed a value for placeholder tensor 'Placeholder/_0' with dtype int32\n",
      "\t [[{{node Placeholder/_0}}]]\n"
     ]
    },
    {
     "name": "stdout",
     "output_type": "stream",
     "text": [
      "\b\b\b\b\b\b\b\b\b\b\b\b\b\b\b\b\b\b\b\b\b\b\b\b\b\b\b\b\b\b\b\b\b\b\b\b\b\b\b\b\b\b\b\b\b\b\b\b\b\b\b\b\b\b\b\b\b\b\b\b\b\b\b\b\b\b\b\b\b\b\b\b\b\b\b\b\b\b\b\b\b\b\b\b\b\b\r",
      "3832/3832 [==============================] - 82s 21ms/step - loss: 0.9022 - accuracy: 0.6669 - val_loss: 0.6663 - val_accuracy: 0.7234\n"
     ]
    }
   ],
   "source": [
    "c_model.tune()"
   ]
  },
  {
   "cell_type": "code",
   "execution_count": 30,
   "id": "25c7fbc9",
   "metadata": {},
   "outputs": [
    {
     "name": "stdout",
     "output_type": "stream",
     "text": [
      "Saving model (without clustering overhead) to:  models/clustered_model.h5\n",
      "WARNING:tensorflow:Compiled the loaded model, but the compiled metrics have yet to be built. `model.compile_metrics` will be empty until you train or evaluate the model.\n"
     ]
    },
    {
     "name": "stderr",
     "output_type": "stream",
     "text": [
      "WARNING:tensorflow:Compiled the loaded model, but the compiled metrics have yet to be built. `model.compile_metrics` will be empty until you train or evaluate the model.\n"
     ]
    }
   ],
   "source": [
    "c_model.save(\"clustered_model.h5\", \"models/\")"
   ]
  },
  {
   "cell_type": "code",
   "execution_count": 31,
   "id": "d691c312",
   "metadata": {},
   "outputs": [
    {
     "name": "stdout",
     "output_type": "stream",
     "text": [
      "Progress: 3705/3705\n"
     ]
    }
   ],
   "source": [
    "c_model_metrics = p_model.evaluate()"
   ]
  },
  {
   "cell_type": "code",
   "execution_count": 32,
   "id": "e249508d",
   "metadata": {},
   "outputs": [
    {
     "name": "stdout",
     "output_type": "stream",
     "text": [
      "Uncompressed model size:  68.976  KB\n",
      "Pruned model size:  11.48  KB\n",
      "Uncompressed model validation accuracy (%): 75.42594466936572\n",
      "Pruned model validation accuracy (%): 69.90932860998652\n",
      "Accuracy loss (%): 5.516616059379209\n",
      "Compression factor: 6.008362369337979\n"
     ]
    }
   ],
   "source": [
    "# Evaluate model sizes\n",
    "u_model_size = get_gzipped_model_size(\"models/u_model_slim.h5\")\n",
    "c_model_size = get_gzipped_model_size(\"models/clustered_model.h5\")\n",
    "print(\"Uncompressed model size: \", u_model_size, ' KB')\n",
    "print(\"Pruned model size: \", c_model_size, ' KB')\n",
    "\n",
    "# Print results\n",
    "print('Uncompressed model validation accuracy (%):', u_model_metrics['accuracy'] * 100)\n",
    "print('Pruned model validation accuracy (%):', c_model_metrics['accuracy'] * 100)\n",
    "print(\"Accuracy loss (%):\", (u_model_metrics['accuracy'] - c_model_metrics['accuracy']) * 100)\n",
    "print(\"Compression factor:\", u_model_size/c_model_size)"
   ]
  },
  {
   "cell_type": "markdown",
   "id": "d58c2fd8",
   "metadata": {},
   "source": [
    "**Quantising clustered model**"
   ]
  },
  {
   "cell_type": "code",
   "execution_count": 33,
   "id": "2269e1d8",
   "metadata": {
    "scrolled": true
   },
   "outputs": [
    {
     "name": "stderr",
     "output_type": "stream",
     "text": [
      "WARNING:absl:Found untraced functions such as _jit_compiled_convolution_op, _jit_compiled_convolution_op while saving (showing 2 of 2). These functions will not be directly callable after loading.\n"
     ]
    },
    {
     "name": "stdout",
     "output_type": "stream",
     "text": [
      "INFO:tensorflow:Assets written to: /tmp/tmpu_tlk_6f/assets\n"
     ]
    },
    {
     "name": "stderr",
     "output_type": "stream",
     "text": [
      "INFO:tensorflow:Assets written to: /tmp/tmpu_tlk_6f/assets\n",
      "/home/radar_embed2/virtualenvs/venv/lib/python3.9/site-packages/tensorflow/lite/python/convert.py:789: UserWarning: Statistics for quantized inputs were expected, but not specified; continuing anyway.\n",
      "  warnings.warn(\"Statistics for quantized inputs were expected, but not \"\n",
      "2023-07-24 19:15:14.741822: W tensorflow/compiler/mlir/lite/python/tf_tfl_flatbuffer_helpers.cc:364] Ignored output_format.\n",
      "2023-07-24 19:15:14.741847: W tensorflow/compiler/mlir/lite/python/tf_tfl_flatbuffer_helpers.cc:367] Ignored drop_control_dependency.\n",
      "2023-07-24 19:15:14.742030: I tensorflow/cc/saved_model/reader.cc:45] Reading SavedModel from: /tmp/tmpu_tlk_6f\n",
      "2023-07-24 19:15:14.744607: I tensorflow/cc/saved_model/reader.cc:89] Reading meta graph with tags { serve }\n",
      "2023-07-24 19:15:14.744626: I tensorflow/cc/saved_model/reader.cc:130] Reading SavedModel debug info (if present) from: /tmp/tmpu_tlk_6f\n",
      "2023-07-24 19:15:14.754637: I tensorflow/cc/saved_model/loader.cc:231] Restoring SavedModel bundle.\n",
      "2023-07-24 19:15:14.787578: I tensorflow/cc/saved_model/loader.cc:215] Running initialization op on SavedModel bundle at path: /tmp/tmpu_tlk_6f\n",
      "2023-07-24 19:15:14.800042: I tensorflow/cc/saved_model/loader.cc:314] SavedModel load for tags { serve }; Status: success: OK. Took 58011 microseconds.\n",
      "fully_quantize: 0, inference_type: 6, input_inference_type: FLOAT32, output_inference_type: FLOAT32\n"
     ]
    }
   ],
   "source": [
    "quant_params = {\n",
    "    \"optimizations\" : tf.lite.Optimize.DEFAULT,\n",
    "    \"opset\" : tf.lite.OpsSet.TFLITE_BUILTINS_INT8,\n",
    "    \"representative_dataset_gen\" : val_data\n",
    "}\n",
    "\n",
    "q3_model = Quantise(c_model.model_stripped, parameters=quant_params)\n",
    "q3_model.convert()"
   ]
  },
  {
   "cell_type": "code",
   "execution_count": 34,
   "id": "395ed6b0",
   "metadata": {},
   "outputs": [
    {
     "name": "stdout",
     "output_type": "stream",
     "text": [
      "Saved to models/quant_test_slim_clustered.tflite\n"
     ]
    }
   ],
   "source": [
    "q3_model.save(\"quant_test_slim_clustered.tflite\", \"models/\")"
   ]
  },
  {
   "cell_type": "code",
   "execution_count": 35,
   "id": "d43652eb",
   "metadata": {
    "scrolled": true
   },
   "outputs": [
    {
     "name": "stdout",
     "output_type": "stream",
     "text": [
      "Evaluating .tflite model. Please wait...\n"
     ]
    }
   ],
   "source": [
    "q3_model_metrics = q3_model.evaluate(val_data)"
   ]
  },
  {
   "cell_type": "code",
   "execution_count": 36,
   "id": "674cd7b1",
   "metadata": {},
   "outputs": [
    {
     "name": "stdout",
     "output_type": "stream",
     "text": [
      "Uncompressed model size:  68.976  KB\n",
      "Quantised model size:  7.51  KB\n",
      "Uncompressed model validation accuracy (%): 75.42594466936572\n",
      "Quantised model validation accuracy (%): 62.450657894736835\n",
      "Accuracy loss (%): 12.97528677462888\n",
      "Compression factor: 9.184553928095871\n"
     ]
    }
   ],
   "source": [
    "# Evaluate model sizes\n",
    "q3_model_size = get_gzipped_model_size(\"models/quant_test_slim_clustered.tflite\")\n",
    "print(\"Uncompressed model size: \", u_model_size, ' KB')\n",
    "print(\"Quantised model size: \", q3_model_size, ' KB')\n",
    "\n",
    "# Print results\n",
    "print('Uncompressed model validation accuracy (%):', u_model_metrics['accuracy'] * 100)\n",
    "print('Quantised model validation accuracy (%):', q3_model_metrics['accuracy'] * 100)\n",
    "print(\"Accuracy loss (%):\", (u_model_metrics['accuracy'] - q3_model_metrics['accuracy']) * 100)\n",
    "print(\"Compression factor:\", u_model_size/q3_model_size)"
   ]
  },
  {
   "cell_type": "code",
   "execution_count": null,
   "id": "e24bbd50",
   "metadata": {},
   "outputs": [],
   "source": []
  }
 ],
 "metadata": {
  "kernelspec": {
   "display_name": "Python 3 (ipykernel)",
   "language": "python",
   "name": "python3"
  },
  "language_info": {
   "codemirror_mode": {
    "name": "ipython",
    "version": 3
   },
   "file_extension": ".py",
   "mimetype": "text/x-python",
   "name": "python",
   "nbconvert_exporter": "python",
   "pygments_lexer": "ipython3",
   "version": "3.9.16"
  }
 },
 "nbformat": 4,
 "nbformat_minor": 5
}
