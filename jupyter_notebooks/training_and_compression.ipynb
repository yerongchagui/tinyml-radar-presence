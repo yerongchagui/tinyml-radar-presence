{
 "cells": [
  {
   "cell_type": "code",
   "execution_count": 1,
   "metadata": {},
   "outputs": [],
   "source": [
    "import numpy as np\n",
    "import matplotlib.pyplot as plt\n",
    "from preprocess import range_fft, doppler_fft, range_doppler_fft\n",
    "import scipy.signal as signal\n",
    "import tensorflow as tf\n",
    "import os\n",
    "from sklearn.utils import shuffle\n",
    "from sklearn.metrics import confusion_matrix, ConfusionMatrixDisplay\n",
    "import seaborn as sb\n",
    "from toolbox.helper import get_gzipped_model_size, evaluate_tflite\n",
    "import tensorflow_model_optimization as tfmot\n",
    "\n",
    "NUM_SAMPLES_PER_FRAME = 64\n",
    "NUM_CHIRPS_PER_FRAME = 16\n",
    "NUM_CHANNELS = 3\n",
    "\n",
    "def save(model : tf.keras.Model, filepath : str):\n",
    "    with open(filepath, 'wb') as f:\n",
    "        f.write(model)\n",
    "    print(\"Saved to \" + filepath)\n",
    "\n",
    "current_path = os.getcwd()\n",
    "parent_path = os.path.abspath(os.path.join(current_path, os.pardir))"
   ]
  },
  {
   "cell_type": "markdown",
   "metadata": {},
   "source": [
    "Range-Doppler transform"
   ]
  },
  {
   "cell_type": "code",
   "execution_count": 2,
   "metadata": {},
   "outputs": [],
   "source": [
    "def preprocess(raw_frames : np.ndarray):\n",
    "    range_window_func = lambda x: signal.windows.hamming(x, NUM_SAMPLES_PER_FRAME)\n",
    "    range_data = range_fft(raw_frames, range_window_func)\n",
    "    mti_data = range_data - np.mean(range_data, axis=-1, keepdims=True)\n",
    "    doppler_data = doppler_fft(mti_data)\n",
    "    rdi = np.mean(abs(doppler_data), axis=0) # Average across channels\n",
    "    return rdi"
   ]
  },
  {
   "cell_type": "markdown",
   "metadata": {},
   "source": [
    "# Dataset generation"
   ]
  },
  {
   "cell_type": "code",
   "execution_count": 3,
   "metadata": {},
   "outputs": [],
   "source": [
    "X_train = []\n",
    "y_train = []\n",
    "\n",
    "train_path = os.path.join(parent_path, \"data\")\n",
    "filenames = os.listdir(train_path)\n",
    "\n",
    "for filename in os.listdir(train_path):\n",
    "    data = np.load(os.path.join(train_path, filename))\n",
    "    label = None\n",
    "\n",
    "    if filename[5] == \"0\":\n",
    "        label = 0\n",
    "    else:\n",
    "        label = 1\n",
    "\n",
    "    for frame in data:\n",
    "        preprocessed = preprocess(frame)\n",
    "        preprocessed = np.reshape(preprocessed, (16, 32, 1))\n",
    "        X_train.append(preprocessed)\n",
    "        y_train.append(label)\n",
    "\n",
    "X_train = np.float32(np.asarray(X_train))\n",
    "y_train = np.asarray(y_train)\n",
    "assert (X_train.shape[0] == y_train.shape[0])"
   ]
  },
  {
   "cell_type": "code",
   "execution_count": 4,
   "metadata": {},
   "outputs": [],
   "source": [
    "X_train, y_train = shuffle(X_train, y_train)\n",
    "\n",
    "train_size = X_train.shape[0]\n",
    "val_split = 0.15\n",
    "test_split = 0.15\n",
    "val_size = int(train_size * val_split)\n",
    "test_size = int(train_size * test_split)\n",
    "train_size = train_size - val_size - test_size\n",
    "\n",
    "X_val = X_train[ : val_size]\n",
    "y_val = y_train[ : val_size]\n",
    "X_test = X_train[val_size : val_size + test_size]\n",
    "y_test = y_train[val_size : val_size + test_size]\n",
    "X_train = X_train[val_size + test_size : ]\n",
    "y_train = y_train[val_size + test_size : ]"
   ]
  },
  {
   "cell_type": "markdown",
   "metadata": {},
   "source": [
    "# Model training and validation"
   ]
  },
  {
   "cell_type": "code",
   "execution_count": 5,
   "metadata": {},
   "outputs": [
    {
     "name": "stdout",
     "output_type": "stream",
     "text": [
      "Model: \"sequential\"\n",
      "_________________________________________________________________\n",
      " Layer (type)                Output Shape              Param #   \n",
      "=================================================================\n",
      " depthwise_conv2d (Depthwise  (None, 14, 30, 1)        10        \n",
      " Conv2D)                                                         \n",
      "                                                                 \n",
      " flatten (Flatten)           (None, 420)               0         \n",
      "                                                                 \n",
      " dense (Dense)               (None, 10)                4210      \n",
      "                                                                 \n",
      " dense_1 (Dense)             (None, 2)                 22        \n",
      "                                                                 \n",
      "=================================================================\n",
      "Total params: 4,242\n",
      "Trainable params: 4,242\n",
      "Non-trainable params: 0\n",
      "_________________________________________________________________\n"
     ]
    }
   ],
   "source": [
    "model = tf.keras.Sequential([\n",
    "    tf.keras.layers.InputLayer(input_shape=(16, 32, 1)),\n",
    "    tf.keras.layers.DepthwiseConv2D(kernel_size=3, strides=1, activation=\"relu\"),\n",
    "    # tf.keras.layers.Conv2D(filters=2, kernel_size=(3,3), activation=\"relu\"),\n",
    "    tf.keras.layers.Flatten(),\n",
    "    tf.keras.layers.Dense(10),\n",
    "    # tf.keras.layers.Dropout(0.2),\n",
    "    tf.keras.layers.Dense(2)\n",
    "])\n",
    "\n",
    "model.summary()"
   ]
  },
  {
   "cell_type": "code",
   "execution_count": 6,
   "metadata": {},
   "outputs": [
    {
     "name": "stdout",
     "output_type": "stream",
     "text": [
      "Epoch 1/5\n",
      "868/868 [==============================] - 10s 10ms/step - loss: 0.3362 - accuracy: 0.9859 - val_loss: 0.0023 - val_accuracy: 0.9995\n",
      "Epoch 2/5\n",
      "868/868 [==============================] - 7s 8ms/step - loss: 0.0072 - accuracy: 0.9983 - val_loss: 4.9812e-04 - val_accuracy: 0.9998\n",
      "Epoch 3/5\n",
      "868/868 [==============================] - 7s 8ms/step - loss: 0.0058 - accuracy: 0.9988 - val_loss: 4.9535e-08 - val_accuracy: 1.0000\n",
      "Epoch 4/5\n",
      "868/868 [==============================] - 7s 8ms/step - loss: 0.0364 - accuracy: 0.9969 - val_loss: 0.0109 - val_accuracy: 0.9980\n",
      "Epoch 5/5\n",
      "868/868 [==============================] - 7s 8ms/step - loss: 9.6082e-04 - accuracy: 0.9999 - val_loss: 1.7191e-06 - val_accuracy: 1.0000\n"
     ]
    }
   ],
   "source": [
    "model.compile(optimizer='adam',\n",
    "              loss=tf.keras.losses.SparseCategoricalCrossentropy(from_logits=True),\n",
    "              metrics=['accuracy'])\n",
    "\n",
    "# history = model.fit(train_dataset, validation_data=val_dataset, epochs=1)\n",
    "history = model.fit(x=X_train, y=y_train, validation_data=(X_val, y_val), epochs=5)"
   ]
  },
  {
   "cell_type": "code",
   "execution_count": 7,
   "metadata": {},
   "outputs": [
    {
     "name": "stdout",
     "output_type": "stream",
     "text": [
      "186/186 [==============================] - 1s 6ms/step - loss: 4.8908e-07 - accuracy: 1.0000\n"
     ]
    },
    {
     "data": {
      "text/plain": [
       "[4.890836180493352e-07, 1.0]"
      ]
     },
     "execution_count": 7,
     "metadata": {},
     "output_type": "execute_result"
    }
   ],
   "source": [
    "model.evaluate(X_test, y_test)"
   ]
  },
  {
   "cell_type": "code",
   "execution_count": 8,
   "metadata": {},
   "outputs": [],
   "source": [
    "acc = history.history['accuracy']\n",
    "val_acc = history.history['val_accuracy']\n",
    "loss = history.history['loss']\n",
    "epochs = range(len(acc))"
   ]
  },
  {
   "cell_type": "code",
   "execution_count": 9,
   "metadata": {},
   "outputs": [
    {
     "name": "stdout",
     "output_type": "stream",
     "text": [
      "186/186 [==============================] - 1s 6ms/step\n"
     ]
    },
    {
     "data": {
      "image/png": "[encoded data removed]",
      "text/plain": [
       "<Figure size 1000x600 with 2 Axes>"
      ]
     },
     "metadata": {},
     "output_type": "display_data"
    }
   ],
   "source": [
    "y_pred = model.predict(X_test)\n",
    "y_pred = np.argmax(y_pred, axis=1)\n",
    "correct = (y_pred == y_test)\n",
    "accuracy = correct.sum() / correct.size\n",
    "cm = confusion_matrix(y_test, y_pred)\n",
    "plt.subplots(figsize=(10, 6))\n",
    "sb.heatmap(cm, annot = True, fmt = 'g')\n",
    "plt.xlabel(\"Predicted\")\n",
    "plt.ylabel(\"Actual\")\n",
    "plt.title(\"Confusion Matrix (Test Set)\")\n",
    "plt.show()"
   ]
  },
  {
   "cell_type": "code",
   "execution_count": 10,
   "metadata": {},
   "outputs": [],
   "source": [
    "model.save(parent_path + \"models/u_model.h5\")"
   ]
  },
  {
   "cell_type": "code",
   "execution_count": 16,
   "metadata": {},
   "outputs": [],
   "source": [
    "# test_model = tf.keras.models.load_model(parent_path + \"/u_model.h5\")\n",
    "# tries = 0\n",
    "# for i in range(50000):\n",
    "#     if y_train[i] == 1:\n",
    "#         pred = test_model.predict(np.array([X_test[i],]), verbose=False)\n",
    "#         print(i)\n",
    "#         print(\"Expected: \", y_test[i])\n",
    "#         print(\"Predicted: \", np.argmax(pred[0]))\n",
    "#         tries += 1\n",
    "#         if tries > 10:\n",
    "#             break"
   ]
  },
  {
   "cell_type": "code",
   "execution_count": 11,
   "metadata": {},
   "outputs": [
    {
     "name": "stderr",
     "output_type": "stream",
     "text": [
      "WARNING:absl:Found untraced functions such as _jit_compiled_convolution_op, _update_step_xla while saving (showing 2 of 2). These functions will not be directly callable after loading.\n"
     ]
    },
    {
     "name": "stdout",
     "output_type": "stream",
     "text": [
      "INFO:tensorflow:Assets written to: C:\\Users\\Zaman\\AppData\\Local\\Temp\\tmp5xie9hca\\assets\n"
     ]
    },
    {
     "name": "stderr",
     "output_type": "stream",
     "text": [
      "INFO:tensorflow:Assets written to: C:\\Users\\Zaman\\AppData\\Local\\Temp\\tmp5xie9hca\\assets\n"
     ]
    }
   ],
   "source": [
    "converter = tf.lite.TFLiteConverter.from_keras_model(model)\n",
    "tflite_model = converter.convert()"
   ]
  },
  {
   "cell_type": "code",
   "execution_count": 12,
   "metadata": {},
   "outputs": [],
   "source": [
    "tflite_model_path = parent_path\n",
    "tf.io.write_file(parent_path + \"/\" + \"models/u_model.tflite\", tflite_model)"
   ]
  },
  {
   "cell_type": "markdown",
   "metadata": {},
   "source": [
    "# Post-training quantisation"
   ]
  },
  {
   "cell_type": "code",
   "execution_count": 19,
   "metadata": {},
   "outputs": [
    {
     "name": "stderr",
     "output_type": "stream",
     "text": [
      "WARNING:absl:Found untraced functions such as _jit_compiled_convolution_op, _update_step_xla while saving (showing 2 of 2). These functions will not be directly callable after loading.\n"
     ]
    },
    {
     "name": "stdout",
     "output_type": "stream",
     "text": [
      "INFO:tensorflow:Assets written to: C:\\Users\\Zaman\\AppData\\Local\\Temp\\tmpytax2dor\\assets\n"
     ]
    },
    {
     "name": "stderr",
     "output_type": "stream",
     "text": [
      "INFO:tensorflow:Assets written to: C:\\Users\\Zaman\\AppData\\Local\\Temp\\tmpytax2dor\\assets\n",
      "c:\\Users\\Zaman\\scoop\\apps\\miniconda3\\current\\lib\\site-packages\\tensorflow\\lite\\python\\convert.py:765: UserWarning: Statistics for quantized inputs were expected, but not specified; continuing anyway.\n",
      "  warnings.warn(\"Statistics for quantized inputs were expected, but not \"\n"
     ]
    }
   ],
   "source": [
    "def representative_data_gen():\n",
    "    for input_value in tf.data.Dataset.from_tensor_slices(X_train).batch(1).take(100):\n",
    "        yield [input_value]\n",
    "\n",
    "converter = tf.lite.TFLiteConverter.from_keras_model(model)\n",
    "converter.optimizations = [tf.lite.Optimize.DEFAULT]\n",
    "converter.representative_dataset = representative_data_gen\n",
    "converter.target_spec.supported_ops = [tf.lite.OpsSet.TFLITE_BUILTINS_INT8]\n",
    "# converter.inference_input_type = tf.uint8\n",
    "# converter.inference_output_type = tf.uint8\n",
    "\n",
    "q_model = converter.convert()"
   ]
  },
  {
   "cell_type": "code",
   "execution_count": 30,
   "metadata": {},
   "outputs": [
    {
     "name": "stdout",
     "output_type": "stream",
     "text": [
      "Saved to c:\\Users\\Zaman\\Documents\\GitHub Repos\\research_internship\\models/q_model.tflite\n"
     ]
    }
   ],
   "source": [
    "save(q_model, os.path.join(parent_path, \"models/q_model.tflite\"))"
   ]
  },
  {
   "cell_type": "markdown",
   "metadata": {},
   "source": [
    "# Pruning + post-training quantisation"
   ]
  },
  {
   "cell_type": "code",
   "execution_count": 13,
   "metadata": {},
   "outputs": [
    {
     "name": "stdout",
     "output_type": "stream",
     "text": [
      "WARNING:tensorflow:From c:\\Users\\Zaman\\scoop\\apps\\miniconda3\\current\\lib\\site-packages\\tensorflow\\python\\autograph\\pyct\\static_analysis\\liveness.py:83: Analyzer.lamba_check (from tensorflow.python.autograph.pyct.static_analysis.liveness) is deprecated and will be removed after 2023-09-23.\n",
      "Instructions for updating:\n",
      "Lambda fuctions will be no more assumed to be used in the statement where they are used, or at least in the same block. https://github.com/tensorflow/tensorflow/issues/56089\n",
      "Model: \"sequential\"\n",
      "_________________________________________________________________\n",
      " Layer (type)                Output Shape              Param #   \n",
      "=================================================================\n",
      " prune_low_magnitude_depthwi  (None, 14, 30, 1)        11        \n",
      " se_conv2d (PruneLowMagnitud                                     \n",
      " e)                                                              \n",
      "                                                                 \n",
      " prune_low_magnitude_flatten  (None, 420)              1         \n",
      "  (PruneLowMagnitude)                                            \n",
      "                                                                 \n",
      " prune_low_magnitude_dense (  (None, 10)               8412      \n",
      " PruneLowMagnitude)                                              \n",
      "                                                                 \n",
      " prune_low_magnitude_dense_1  (None, 2)                44        \n",
      "  (PruneLowMagnitude)                                            \n",
      "                                                                 \n",
      "=================================================================\n",
      "Total params: 8,468\n",
      "Trainable params: 4,242\n",
      "Non-trainable params: 4,226\n",
      "_________________________________________________________________\n"
     ]
    }
   ],
   "source": [
    "prune_low_magnitude = tfmot.sparsity.keras.prune_low_magnitude\n",
    "\n",
    "# Compute end step to finish pruning after 2 epochs.\n",
    "batch_size = 128\n",
    "epochs = 2\n",
    "\n",
    "num_images = X_train.shape[0]\n",
    "end_step = np.ceil(num_images / batch_size).astype(np.int32) * epochs\n",
    "\n",
    "# Define model for pruning.\n",
    "pruning_params = {\n",
    "      'pruning_schedule': tfmot.sparsity.keras.PolynomialDecay(initial_sparsity=0.50,\n",
    "                                                               final_sparsity=0.80,\n",
    "                                                               begin_step=0,\n",
    "                                                               end_step=end_step)\n",
    "}\n",
    "\n",
    "model = tf.keras.models.load_model(parent_path + \"models/u_model.h5\")\n",
    "model_for_pruning = prune_low_magnitude(model, **pruning_params)\n",
    "\n",
    "# `prune_low_magnitude` requires a recompile.\n",
    "model_for_pruning.compile(optimizer='adam',\n",
    "              loss=tf.keras.losses.SparseCategoricalCrossentropy(from_logits=True),\n",
    "              metrics=['accuracy'])\n",
    "\n",
    "model_for_pruning.summary()"
   ]
  },
  {
   "cell_type": "code",
   "execution_count": 14,
   "metadata": {},
   "outputs": [
    {
     "name": "stdout",
     "output_type": "stream",
     "text": [
      "Epoch 1/2\n",
      "217/217 [==============================] - 9s 19ms/step - loss: 0.4299 - accuracy: 0.9825 - val_loss: 0.1378 - val_accuracy: 0.9805\n",
      "Epoch 2/2\n",
      "217/217 [==============================] - 4s 20ms/step - loss: 4.0939 - accuracy: 0.9287 - val_loss: 0.0636 - val_accuracy: 0.9882\n"
     ]
    },
    {
     "data": {
      "text/plain": [
       "<keras.callbacks.History at 0x23db94dd9d0>"
      ]
     },
     "execution_count": 14,
     "metadata": {},
     "output_type": "execute_result"
    }
   ],
   "source": [
    "callbacks = [\n",
    "  tfmot.sparsity.keras.UpdatePruningStep(),\n",
    "]\n",
    "\n",
    "model_for_pruning.fit(X_train, y_train,\n",
    "                  batch_size=batch_size, epochs=epochs, validation_data=(X_val, y_val),\n",
    "                  callbacks=callbacks)"
   ]
  },
  {
   "cell_type": "code",
   "execution_count": 17,
   "metadata": {},
   "outputs": [
    {
     "name": "stderr",
     "output_type": "stream",
     "text": [
      "WARNING:absl:Found untraced functions such as _jit_compiled_convolution_op while saving (showing 1 of 1). These functions will not be directly callable after loading.\n"
     ]
    },
    {
     "name": "stdout",
     "output_type": "stream",
     "text": [
      "INFO:tensorflow:Assets written to: C:\\Users\\Zaman\\AppData\\Local\\Temp\\tmp701z_bat\\assets\n"
     ]
    },
    {
     "name": "stderr",
     "output_type": "stream",
     "text": [
      "INFO:tensorflow:Assets written to: C:\\Users\\Zaman\\AppData\\Local\\Temp\\tmp701z_bat\\assets\n"
     ]
    }
   ],
   "source": [
    "model_for_export = tfmot.sparsity.keras.strip_pruning(model_for_pruning)\n",
    "converter = tf.lite.TFLiteConverter.from_keras_model(model_for_export)\n",
    "pruned_tflite_model = converter.convert()"
   ]
  },
  {
   "cell_type": "code",
   "execution_count": 18,
   "metadata": {},
   "outputs": [
    {
     "name": "stdout",
     "output_type": "stream",
     "text": [
      "Saved to c:\\Users\\Zaman\\Documents\\GitHub Repos\\research_internship\\models/p_model.tflite\n"
     ]
    }
   ],
   "source": [
    "save(pruned_tflite_model, os.path.join(parent_path, \"models/p_model.tflite\"))"
   ]
  },
  {
   "cell_type": "markdown",
   "metadata": {},
   "source": [
    "Quantising pruned model"
   ]
  },
  {
   "cell_type": "code",
   "execution_count": 27,
   "metadata": {},
   "outputs": [
    {
     "name": "stderr",
     "output_type": "stream",
     "text": [
      "WARNING:absl:Found untraced functions such as _jit_compiled_convolution_op while saving (showing 1 of 1). These functions will not be directly callable after loading.\n"
     ]
    },
    {
     "name": "stdout",
     "output_type": "stream",
     "text": [
      "INFO:tensorflow:Assets written to: C:\\Users\\Zaman\\AppData\\Local\\Temp\\tmpob03r42p\\assets\n"
     ]
    },
    {
     "name": "stderr",
     "output_type": "stream",
     "text": [
      "INFO:tensorflow:Assets written to: C:\\Users\\Zaman\\AppData\\Local\\Temp\\tmpob03r42p\\assets\n",
      "c:\\Users\\Zaman\\scoop\\apps\\miniconda3\\current\\lib\\site-packages\\tensorflow\\lite\\python\\convert.py:765: UserWarning: Statistics for quantized inputs were expected, but not specified; continuing anyway.\n",
      "  warnings.warn(\"Statistics for quantized inputs were expected, but not \"\n"
     ]
    }
   ],
   "source": [
    "def representative_data_gen():\n",
    "    for input_value in tf.data.Dataset.from_tensor_slices(X_train).batch(1).take(100):\n",
    "        yield [input_value]\n",
    "\n",
    "converter = tf.lite.TFLiteConverter.from_keras_model(model_for_export)\n",
    "converter.optimizations = [tf.lite.Optimize.DEFAULT]\n",
    "converter.representative_dataset = representative_data_gen\n",
    "converter.target_spec.supported_ops = [tf.lite.OpsSet.TFLITE_BUILTINS_INT8]\n",
    "\n",
    "pq_model = converter.convert()"
   ]
  },
  {
   "cell_type": "code",
   "execution_count": 28,
   "metadata": {},
   "outputs": [
    {
     "name": "stdout",
     "output_type": "stream",
     "text": [
      "Saved to c:\\Users\\Zaman\\Documents\\GitHub Repos\\research_internship\\models/pq_model.tflite\n"
     ]
    }
   ],
   "source": [
    "save(pq_model, os.path.join(parent_path, \"models/pq_model.tflite\"))"
   ]
  },
  {
   "cell_type": "markdown",
   "metadata": {},
   "source": [
    "# Clustering + post-training quantisation"
   ]
  },
  {
   "cell_type": "code",
   "execution_count": 53,
   "metadata": {},
   "outputs": [
    {
     "name": "stdout",
     "output_type": "stream",
     "text": [
      "Model: \"sequential\"\n",
      "_________________________________________________________________\n",
      " Layer (type)                Output Shape              Param #   \n",
      "=================================================================\n",
      " cluster_depthwise_conv2d (C  (None, 14, 30, 1)        10        \n",
      " lusterWeights)                                                  \n",
      "                                                                 \n",
      " cluster_flatten (ClusterWei  (None, 420)              0         \n",
      " ghts)                                                           \n",
      "                                                                 \n",
      " cluster_dense (ClusterWeigh  (None, 10)               8413      \n",
      " ts)                                                             \n",
      "                                                                 \n",
      " cluster_dense_1 (ClusterWei  (None, 2)                45        \n",
      " ghts)                                                           \n",
      "                                                                 \n",
      "=================================================================\n",
      "Total params: 8,468\n",
      "Trainable params: 4,248\n",
      "Non-trainable params: 4,220\n",
      "_________________________________________________________________\n"
     ]
    }
   ],
   "source": [
    "cluster_weights = tfmot.clustering.keras.cluster_weights\n",
    "CentroidInitialization = tfmot.clustering.keras.CentroidInitialization\n",
    "\n",
    "clustering_params = {\n",
    "  'number_of_clusters': 3,\n",
    "  'cluster_centroids_init': CentroidInitialization.LINEAR\n",
    "}\n",
    "\n",
    "model = tf.keras.models.load_model(parent_path + \"models/u_model.h5\")\n",
    "\n",
    "clustered_model = cluster_weights(model, **clustering_params)\n",
    "clustered_model.compile(optimizer='adam',\n",
    "              loss=tf.keras.losses.SparseCategoricalCrossentropy(from_logits=True),\n",
    "              metrics=['accuracy'])\n",
    "\n",
    "clustered_model.summary()"
   ]
  },
  {
   "cell_type": "code",
   "execution_count": 54,
   "metadata": {},
   "outputs": [
    {
     "name": "stdout",
     "output_type": "stream",
     "text": [
      "868/868 [==============================] - 8s 7ms/step - loss: 0.2760 - accuracy: 0.9952 - val_loss: 2.6442e-09 - val_accuracy: 1.0000\n"
     ]
    },
    {
     "data": {
      "text/plain": [
       "<keras.callbacks.History at 0x23dc0f86ca0>"
      ]
     },
     "execution_count": 54,
     "metadata": {},
     "output_type": "execute_result"
    }
   ],
   "source": [
    "clustered_model.fit(X_train, y_train, validation_data=(X_val, y_val))"
   ]
  },
  {
   "cell_type": "code",
   "execution_count": 55,
   "metadata": {},
   "outputs": [
    {
     "name": "stderr",
     "output_type": "stream",
     "text": [
      "WARNING:absl:Found untraced functions such as _jit_compiled_convolution_op while saving (showing 1 of 1). These functions will not be directly callable after loading.\n"
     ]
    },
    {
     "name": "stdout",
     "output_type": "stream",
     "text": [
      "INFO:tensorflow:Assets written to: C:\\Users\\Zaman\\AppData\\Local\\Temp\\tmpsz0nc_a0\\assets\n"
     ]
    },
    {
     "name": "stderr",
     "output_type": "stream",
     "text": [
      "INFO:tensorflow:Assets written to: C:\\Users\\Zaman\\AppData\\Local\\Temp\\tmpsz0nc_a0\\assets\n"
     ]
    }
   ],
   "source": [
    "model_for_export = tfmot.clustering.keras.strip_clustering(clustered_model)\n",
    "converter = tf.lite.TFLiteConverter.from_keras_model(model_for_export)\n",
    "clustered_tflite_model = converter.convert()"
   ]
  },
  {
   "cell_type": "code",
   "execution_count": 56,
   "metadata": {},
   "outputs": [
    {
     "name": "stdout",
     "output_type": "stream",
     "text": [
      "Saved to c:\\Users\\Zaman\\Documents\\GitHub Repos\\research_internship\\models/c_model.tflite\n"
     ]
    }
   ],
   "source": [
    "save(clustered_tflite_model, os.path.join(parent_path, \"models/c_model.tflite\"))"
   ]
  },
  {
   "cell_type": "markdown",
   "metadata": {},
   "source": [
    "Quantising clustered model"
   ]
  },
  {
   "cell_type": "code",
   "execution_count": 57,
   "metadata": {},
   "outputs": [
    {
     "name": "stderr",
     "output_type": "stream",
     "text": [
      "WARNING:absl:Found untraced functions such as _jit_compiled_convolution_op while saving (showing 1 of 1). These functions will not be directly callable after loading.\n"
     ]
    },
    {
     "name": "stdout",
     "output_type": "stream",
     "text": [
      "INFO:tensorflow:Assets written to: C:\\Users\\Zaman\\AppData\\Local\\Temp\\tmp06z39fk6\\assets\n"
     ]
    },
    {
     "name": "stderr",
     "output_type": "stream",
     "text": [
      "INFO:tensorflow:Assets written to: C:\\Users\\Zaman\\AppData\\Local\\Temp\\tmp06z39fk6\\assets\n",
      "c:\\Users\\Zaman\\scoop\\apps\\miniconda3\\current\\lib\\site-packages\\tensorflow\\lite\\python\\convert.py:765: UserWarning: Statistics for quantized inputs were expected, but not specified; continuing anyway.\n",
      "  warnings.warn(\"Statistics for quantized inputs were expected, but not \"\n"
     ]
    }
   ],
   "source": [
    "def representative_data_gen():\n",
    "    for input_value in tf.data.Dataset.from_tensor_slices(X_train).batch(1).take(100):\n",
    "        yield [input_value]\n",
    "\n",
    "converter = tf.lite.TFLiteConverter.from_keras_model(model_for_export)\n",
    "converter.optimizations = [tf.lite.Optimize.DEFAULT]\n",
    "converter.representative_dataset = representative_data_gen\n",
    "converter.target_spec.supported_ops = [tf.lite.OpsSet.TFLITE_BUILTINS_INT8]\n",
    "\n",
    "cq_model = converter.convert()"
   ]
  },
  {
   "cell_type": "code",
   "execution_count": 58,
   "metadata": {},
   "outputs": [
    {
     "name": "stdout",
     "output_type": "stream",
     "text": [
      "Saved to c:\\Users\\Zaman\\Documents\\GitHub Repos\\research_internship\\models/cq_model.tflite\n"
     ]
    }
   ],
   "source": [
    "save(cq_model, os.path.join(parent_path, \"models/cq_model.tflite\"))"
   ]
  },
  {
   "cell_type": "markdown",
   "metadata": {},
   "source": [
    "# Final comparison"
   ]
  },
  {
   "cell_type": "code",
   "execution_count": 5,
   "metadata": {},
   "outputs": [],
   "source": [
    "u_model_accuracy = evaluate_tflite(os.path.join(parent_path, \"models/u_model.tflite\"), X_test, y_test, verbose=False)\n",
    "q_model_accuracy = evaluate_tflite(os.path.join(parent_path, \"models/q_model.tflite\"), X_test, y_test, verbose=False)\n",
    "p_model_accuracy = evaluate_tflite(os.path.join(parent_path, \"models/p_model.tflite\"), X_test, y_test, verbose=False)\n",
    "c_model_accuracy = evaluate_tflite(os.path.join(parent_path, \"models/c_model.tflite\"), X_test, y_test, verbose=False)\n",
    "pq_model_accuracy = evaluate_tflite(os.path.join(parent_path, \"models/pq_model.tflite\"), X_test, y_test, verbose=False)\n",
    "cq_model_accuracy = evaluate_tflite(os.path.join(parent_path, \"models/cq_model.tflite\"), X_test, y_test, verbose=False)\n",
    "u_model_size = get_gzipped_model_size(os.path.join(parent_path, \"models/u_model.tflite\"))\n",
    "q_model_size = get_gzipped_model_size(os.path.join(parent_path, \"models/q_model.tflite\"))\n",
    "p_model_size = get_gzipped_model_size(os.path.join(parent_path, \"models/p_model.tflite\"))\n",
    "c_model_size = get_gzipped_model_size(os.path.join(parent_path, \"models/c_model.tflite\"))\n",
    "pq_model_size = get_gzipped_model_size(os.path.join(parent_path, \"models/pq_model.tflite\"))\n",
    "cq_model_size = get_gzipped_model_size(os.path.join(parent_path, \"models/cq_model.tflite\"))"
   ]
  },
  {
   "cell_type": "code",
   "execution_count": 6,
   "metadata": {},
   "outputs": [
    {
     "data": {
      "image/png": "[encoded data removed]",
      "text/plain": [
       "<Figure size 640x480 with 1 Axes>"
      ]
     },
     "metadata": {},
     "output_type": "display_data"
    }
   ],
   "source": [
    "compression_factors = {\n",
    "    \"Baseline\\nmodel\" : 1.0,\n",
    "    \"PTQ\\nonly\" : u_model_size / q_model_size,\n",
    "    \"Pruning\\nonly\" : u_model_size / p_model_size,\n",
    "    \"Pruning\\n+ PTQ\" : u_model_size / pq_model_size,\n",
    "    \"Clustering\\nonly\" : u_model_size / c_model_size,\n",
    "    \"Clusterin\\n-g + PTQ\" : u_model_size / cq_model_size\n",
    "}\n",
    "\n",
    "model_accuracy = {\n",
    "    \"Baseline\\nmodel\" : u_model_accuracy,\n",
    "    \"PTQ\\nonly\" : q_model_accuracy,\n",
    "    \"Pruning\\nonly\" : p_model_accuracy,\n",
    "    \"Pruning\\n+ PTQ\" : pq_model_accuracy,\n",
    "    \"Clustering\\nonly\" : c_model_accuracy,\n",
    "    \"Clusterin\\n-g+ PTQ\" : cq_model_accuracy\n",
    "}\n",
    "\n",
    "x = list(model_accuracy.values())\n",
    "y = list(compression_factors.values())\n",
    "plt.scatter(x, y, 100, marker=\"x\")\n",
    "# plt.xlim(0.95, 1.01)\n",
    "plt.margins(0.25) # 5% padding in all directions\n",
    "plt.xlabel(\"Model accuracy\", labelpad=10)\n",
    "plt.ylabel(\"Compression factor\", labelpad=10)\n",
    "for i, txt in enumerate(list(compression_factors.keys())):\n",
    "    plt.annotate(txt, (x[i], y[i] + 0.4))\n",
    "    # if i == 0:\n",
    "    #     plt.text(x[i] - 0.01, y[i] + 0.3, txt)\n",
    "    # else:\n",
    "    #     plt.text(x[i] - 0.01, y[i], txt)\n",
    "plt.title(\"Comparison of model compression techniques\", pad=20)\n",
    "plt.show()\n"
   ]
  },
  {
   "cell_type": "code",
   "execution_count": 7,
   "metadata": {},
   "outputs": [
    {
     "data": {
      "text/plain": [
       "{'Baseline\\nmodel': 1.0,\n",
       " 'PTQ\\nonly': 0.9994958830448664,\n",
       " 'Pruning\\nonly': 0.9895815829272391,\n",
       " 'Pruning\\n+ PTQ': 0.9566459418585112,\n",
       " 'Clustering\\nonly': 1.0,\n",
       " 'Clusterin\\n-g+ PTQ': 0.9910939337926399}"
      ]
     },
     "execution_count": 7,
     "metadata": {},
     "output_type": "execute_result"
    }
   ],
   "source": [
    "model_accuracy"
   ]
  },
  {
   "cell_type": "code",
   "execution_count": 8,
   "metadata": {},
   "outputs": [
    {
     "data": {
      "text/plain": [
       "{'Baseline\\nmodel': 1.0,\n",
       " 'PTQ\\nonly': 3.0705732946298987,\n",
       " 'Pruning\\nonly': 2.9672159887798037,\n",
       " 'Pruning\\n+ PTQ': 5.798218568002741,\n",
       " 'Clustering\\nonly': 8.7107565620175,\n",
       " 'Clusterin\\n-g + PTQ': 8.724226804123711}"
      ]
     },
     "execution_count": 8,
     "metadata": {},
     "output_type": "execute_result"
    }
   ],
   "source": [
    "compression_factors"
   ]
  },
  {
   "cell_type": "code",
   "execution_count": null,
   "metadata": {},
   "outputs": [],
   "source": []
  }
 ],
 "metadata": {
  "kernelspec": {
   "display_name": "presence_kernel",
   "language": "python",
   "name": "presence_kernel"
  },
  "language_info": {
   "codemirror_mode": {
    "name": "ipython",
    "version": 3
   },
   "file_extension": ".py",
   "mimetype": "text/x-python",
   "name": "python",
   "nbconvert_exporter": "python",
   "pygments_lexer": "ipython3",
   "version": "3.9.12"
  },
  "orig_nbformat": 4
 },
 "nbformat": 4,
 "nbformat_minor": 2
}
